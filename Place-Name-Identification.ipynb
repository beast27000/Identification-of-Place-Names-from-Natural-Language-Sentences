{
 "cells": [
  {
   "cell_type": "code",
   "execution_count": 1,
   "id": "7879b26d",
   "metadata": {
    "execution": {
     "iopub.execute_input": "2024-11-05T05:02:16.470098Z",
     "iopub.status.busy": "2024-11-05T05:02:16.469725Z",
     "iopub.status.idle": "2024-11-05T05:02:17.340843Z",
     "shell.execute_reply": "2024-11-05T05:02:17.339992Z"
    },
    "papermill": {
     "duration": 0.883354,
     "end_time": "2024-11-05T05:02:17.343143",
     "exception": false,
     "start_time": "2024-11-05T05:02:16.459789",
     "status": "completed"
    },
    "tags": []
   },
   "outputs": [],
   "source": [
    "import pandas as pd"
   ]
  },
  {
   "cell_type": "markdown",
   "id": "fe1c7c91",
   "metadata": {
    "papermill": {
     "duration": 0.008142,
     "end_time": "2024-11-05T05:02:17.359963",
     "exception": false,
     "start_time": "2024-11-05T05:02:17.351821",
     "status": "completed"
    },
    "tags": []
   },
   "source": [
    "# Data"
   ]
  },
  {
   "cell_type": "code",
   "execution_count": 2,
   "id": "b8ecb12f",
   "metadata": {
    "_cell_guid": "b1076dfc-b9ad-4769-8c92-a6c4dae69d19",
    "_uuid": "8f2839f25d086af736a60e9eeb907d3b93b6e0e5",
    "execution": {
     "iopub.execute_input": "2024-11-05T05:02:17.377315Z",
     "iopub.status.busy": "2024-11-05T05:02:17.376954Z",
     "iopub.status.idle": "2024-11-05T05:02:17.739134Z",
     "shell.execute_reply": "2024-11-05T05:02:17.738358Z"
    },
    "papermill": {
     "duration": 0.373357,
     "end_time": "2024-11-05T05:02:17.741309",
     "exception": false,
     "start_time": "2024-11-05T05:02:17.367952",
     "status": "completed"
    },
    "tags": []
   },
   "outputs": [],
   "source": [
    "def read_bioes_file(file_path):\n",
    "    sentences, labels = [], []\n",
    "    with open(file_path, 'r') as file:\n",
    "        sentence, label = [], []\n",
    "        for line in file:\n",
    "            if line.strip():\n",
    "                word, tag = line.strip().split()\n",
    "                sentence.append(word)\n",
    "                label.append(tag)\n",
    "            else:\n",
    "                sentences.append(sentence)\n",
    "                labels.append(label)\n",
    "                sentence, label = [], []\n",
    "    return sentences, labels\n",
    "\n",
    "train_sentences, train_labels = read_bioes_file('/kaggle/input/zindi-learn-location-mention-recognition-challenge/merged_dev_bioes.txt')\n",
    "dev_sentences, dev_labels = read_bioes_file('/kaggle/input/zindi-learn-location-mention-recognition-challenge/merged_train_bioes.txt')"
   ]
  },
  {
   "cell_type": "code",
   "execution_count": 3,
   "id": "4a7bc655",
   "metadata": {
    "execution": {
     "iopub.execute_input": "2024-11-05T05:02:17.759464Z",
     "iopub.status.busy": "2024-11-05T05:02:17.758961Z",
     "iopub.status.idle": "2024-11-05T05:02:17.765516Z",
     "shell.execute_reply": "2024-11-05T05:02:17.764621Z"
    },
    "papermill": {
     "duration": 0.018184,
     "end_time": "2024-11-05T05:02:17.767818",
     "exception": false,
     "start_time": "2024-11-05T05:02:17.749634",
     "status": "completed"
    },
    "tags": []
   },
   "outputs": [
    {
     "name": "stdout",
     "output_type": "stream",
     "text": [
      "Train sentences:  2056\n",
      "Train labels:  2056\n",
      "Dev sentences:  14392\n",
      "Dev labels:  14392\n",
      "\n",
      "Train sentences: \n",
      " ['If', 'you', 're', 'looking', 'for', 'legitimate', 'relief', 'organizations', 'to', 'help', 'those', 'affected', 'by', 'the', 'CA', 'fires', ',', 'I', 'found', 'this', 'link', ':', 'How', 'to', 'Help', 'Those', 'Affected', 'by', 'California', 'Wildfires', '-', 'Consumer', 'Reports']\n",
      "Train labels: \n",
      " ['O', 'O', 'O', 'O', 'O', 'O', 'O', 'O', 'O', 'O', 'O', 'O', 'O', 'O', 'S-LOC', 'O', 'O', 'O', 'O', 'O', 'O', 'O', 'O', 'O', 'O', 'O', 'O', 'O', 'S-LOC', 'O', 'O', 'O', 'O']\n",
      "Dev sentences: \n",
      " ['Please', 'read', 'below', '!', '!', 'Another', 'devastating', 'fire', 'has', 'hit', 'Northern', 'California', ',', 'people', 'need', 'help', ',', 'whatever', 'you', 'can', 'give', ',', 'or', 'anyway', 'you', 'can', 'help', ',', 'please', 'doὤF', '!', '!']\n",
      "Dev labels: \n",
      " ['O', 'O', 'O', 'O', 'O', 'O', 'O', 'O', 'O', 'O', 'B-LOC', 'E-LOC', 'O', 'O', 'O', 'O', 'O', 'O', 'O', 'O', 'O', 'O', 'O', 'O', 'O', 'O', 'O', 'O', 'O', 'O', 'O', 'O']\n"
     ]
    }
   ],
   "source": [
    "print(\"Train sentences: \", len(train_sentences))\n",
    "print(\"Train labels: \", len(train_labels))\n",
    "print(\"Dev sentences: \", len(dev_sentences))\n",
    "print(\"Dev labels: \", len(dev_labels))\n",
    "print()\n",
    "\n",
    "print(\"Train sentences: \\n\", train_sentences[0])\n",
    "print(\"Train labels: \\n\", train_labels[0])\n",
    "print(\"Dev sentences: \\n\", dev_sentences[0])\n",
    "print(\"Dev labels: \\n\", dev_labels[0])"
   ]
  },
  {
   "cell_type": "markdown",
   "id": "910e33f3",
   "metadata": {
    "papermill": {
     "duration": 0.00801,
     "end_time": "2024-11-05T05:02:17.784053",
     "exception": false,
     "start_time": "2024-11-05T05:02:17.776043",
     "status": "completed"
    },
    "tags": []
   },
   "source": [
    "# Set up the label mapping"
   ]
  },
  {
   "cell_type": "code",
   "execution_count": 4,
   "id": "631375da",
   "metadata": {
    "execution": {
     "iopub.execute_input": "2024-11-05T05:02:17.801293Z",
     "iopub.status.busy": "2024-11-05T05:02:17.801015Z",
     "iopub.status.idle": "2024-11-05T05:02:17.817505Z",
     "shell.execute_reply": "2024-11-05T05:02:17.816619Z"
    },
    "papermill": {
     "duration": 0.027333,
     "end_time": "2024-11-05T05:02:17.819468",
     "exception": false,
     "start_time": "2024-11-05T05:02:17.792135",
     "status": "completed"
    },
    "tags": []
   },
   "outputs": [
    {
     "name": "stdout",
     "output_type": "stream",
     "text": [
      "{'B-LOC': 0, 'E-LOC': 1, 'I-LOC': 2, 'O': 3, 'S-LOC': 4}\n",
      "{0: 'B-LOC', 1: 'E-LOC', 2: 'I-LOC', 3: 'O', 4: 'S-LOC'}\n"
     ]
    }
   ],
   "source": [
    "# Set up label mapping\n",
    "all_labels = set()\n",
    "\n",
    "for labels in train_labels + dev_labels:\n",
    "    all_labels.update(labels)\n",
    "\n",
    "label_list = sorted(list(all_labels))\n",
    "\n",
    "label2id = {l: i for i, l in enumerate(label_list)}\n",
    "id2label = {i: l for l, i in label2id.items()}\n",
    "\n",
    "print(label2id)\n",
    "print(id2label)"
   ]
  },
  {
   "cell_type": "code",
   "execution_count": 5,
   "id": "133de4ef",
   "metadata": {
    "execution": {
     "iopub.execute_input": "2024-11-05T05:02:17.837190Z",
     "iopub.status.busy": "2024-11-05T05:02:17.836915Z",
     "iopub.status.idle": "2024-11-05T05:02:17.887025Z",
     "shell.execute_reply": "2024-11-05T05:02:17.886089Z"
    },
    "papermill": {
     "duration": 0.061305,
     "end_time": "2024-11-05T05:02:17.889124",
     "exception": false,
     "start_time": "2024-11-05T05:02:17.827819",
     "status": "completed"
    },
    "tags": []
   },
   "outputs": [
    {
     "name": "stdout",
     "output_type": "stream",
     "text": [
      "Original first sentence labels: ['O', 'O', 'O', 'O', 'O', 'O', 'O', 'O', 'O', 'O', 'O', 'O', 'O', 'O', 'S-LOC', 'O', 'O', 'O', 'O', 'O', 'O', 'O', 'O', 'O', 'O', 'O', 'O', 'O', 'S-LOC', 'O', 'O', 'O', 'O']\n",
      "Converted first sentence label IDs: [3, 3, 3, 3, 3, 3, 3, 3, 3, 3, 3, 3, 3, 3, 4, 3, 3, 3, 3, 3, 3, 3, 3, 3, 3, 3, 3, 3, 4, 3, 3, 3, 3]\n",
      "Valid length:  True\n"
     ]
    }
   ],
   "source": [
    "# Convert train_labels to IDs\n",
    "train_labels_ids = [[label2id[label] for label in sentence_labels] for sentence_labels in train_labels]\n",
    "dev_labels_ids = [[label2id[label] for label in sentence_labels] for sentence_labels in dev_labels]\n",
    "\n",
    "# Example usage\n",
    "print(\"Original first sentence labels:\", train_labels[0])\n",
    "print(\"Converted first sentence label IDs:\", train_labels_ids[0])\n",
    "\n",
    "print(\"Valid length: \", len(train_labels) == len(train_labels_ids))"
   ]
  },
  {
   "cell_type": "markdown",
   "id": "b9183f76",
   "metadata": {
    "papermill": {
     "duration": 0.008099,
     "end_time": "2024-11-05T05:02:17.905532",
     "exception": false,
     "start_time": "2024-11-05T05:02:17.897433",
     "status": "completed"
    },
    "tags": []
   },
   "source": [
    "### Preprocess sentence and label from BIOES to index"
   ]
  },
  {
   "cell_type": "code",
   "execution_count": 6,
   "id": "0c17de8e",
   "metadata": {
    "execution": {
     "iopub.execute_input": "2024-11-05T05:02:17.923161Z",
     "iopub.status.busy": "2024-11-05T05:02:17.922879Z",
     "iopub.status.idle": "2024-11-05T05:02:18.663388Z",
     "shell.execute_reply": "2024-11-05T05:02:18.662418Z"
    },
    "papermill": {
     "duration": 0.75214,
     "end_time": "2024-11-05T05:02:18.665890",
     "exception": false,
     "start_time": "2024-11-05T05:02:17.913750",
     "status": "completed"
    },
    "tags": []
   },
   "outputs": [],
   "source": [
    "import re\n",
    "import unicodedata\n",
    "\n",
    "def preprocess_sentence_and_labels(sentence, labels):\n",
    "    processed_sentence = []\n",
    "    processed_labels = []\n",
    "\n",
    "    for word, label in zip(sentence, labels):\n",
    "        # Remove words with special characters or numbers\n",
    "        if not re.match(r'^[a-zA-Z]+$', word):\n",
    "            continue\n",
    "\n",
    "        # If the word is not empty after processing, keep it and its label\n",
    "        if word:\n",
    "            processed_sentence.append(word)\n",
    "            processed_labels.append(label)\n",
    "\n",
    "    return processed_sentence, processed_labels\n",
    "\n",
    "# Process the training data\n",
    "processed_train_sentences = []\n",
    "processed_train_labels_ids = []\n",
    "\n",
    "# Process the training data\n",
    "processed_dev_sentences = []\n",
    "processed_dev_labels_ids = []\n",
    "\n",
    "for sentence, labels in zip(train_sentences, train_labels_ids):\n",
    "    proc_sentence, proc_labels = preprocess_sentence_and_labels(sentence, labels)\n",
    "    processed_train_sentences.append(proc_sentence)\n",
    "    processed_train_labels_ids.append(proc_labels)\n",
    "\n",
    "for sentence, labels in zip(dev_sentences, dev_labels_ids):\n",
    "    proc_sentence, proc_labels = preprocess_sentence_and_labels(sentence, labels)\n",
    "    processed_dev_sentences.append(proc_sentence)\n",
    "    processed_dev_labels_ids.append(proc_labels)"
   ]
  },
  {
   "cell_type": "code",
   "execution_count": 7,
   "id": "868dff46",
   "metadata": {
    "execution": {
     "iopub.execute_input": "2024-11-05T05:02:18.685021Z",
     "iopub.status.busy": "2024-11-05T05:02:18.684732Z",
     "iopub.status.idle": "2024-11-05T05:02:18.692401Z",
     "shell.execute_reply": "2024-11-05T05:02:18.691511Z"
    },
    "papermill": {
     "duration": 0.019443,
     "end_time": "2024-11-05T05:02:18.694482",
     "exception": false,
     "start_time": "2024-11-05T05:02:18.675039",
     "status": "completed"
    },
    "tags": []
   },
   "outputs": [
    {
     "name": "stdout",
     "output_type": "stream",
     "text": [
      "Original sentence: ['Officials', 'say', '563', 'people', 'are', 'still', 'unaccounted', 'for', 'and', 'at', 'least', '84', 'people', 'have', 'died', '.']\n",
      "Original labels: [3, 3, 3, 3, 3, 3, 3, 3, 3, 3, 3, 3, 3, 3, 3, 3]\n",
      "\n",
      "Processed sentence: ['Officials', 'say', 'people', 'are', 'still', 'unaccounted', 'for', 'and', 'at', 'least', 'people', 'have', 'died']\n",
      "13\n",
      "Processed labels: [3, 3, 3, 3, 3, 3, 3, 3, 3, 3, 3, 3, 3]\n",
      "13\n",
      "\n",
      "Original word count: 52038\n",
      "Processed word count: 40840\n",
      "Removed 11198 words\n"
     ]
    }
   ],
   "source": [
    "# Print an example to compare\n",
    "print(\"Original sentence:\", train_sentences[2])\n",
    "print(\"Original labels:\", train_labels_ids[2])\n",
    "print(\"\\nProcessed sentence:\", processed_train_sentences[2])\n",
    "print(len(processed_train_sentences[2]))\n",
    "print(\"Processed labels:\", processed_train_labels_ids[2])\n",
    "print(len(processed_train_labels_ids[2]))\n",
    "\n",
    "# Print some statistics\n",
    "original_word_count = sum(len(sentence) for sentence in train_sentences)\n",
    "processed_word_count = sum(len(sentence) for sentence in processed_train_sentences)\n",
    "print(f\"\\nOriginal word count: {original_word_count}\")\n",
    "print(f\"Processed word count: {processed_word_count}\")\n",
    "print(f\"Removed {original_word_count - processed_word_count} words\")"
   ]
  },
  {
   "cell_type": "code",
   "execution_count": 8,
   "id": "04e8df9e",
   "metadata": {
    "execution": {
     "iopub.execute_input": "2024-11-05T05:02:18.712743Z",
     "iopub.status.busy": "2024-11-05T05:02:18.712294Z",
     "iopub.status.idle": "2024-11-05T05:02:32.222544Z",
     "shell.execute_reply": "2024-11-05T05:02:32.221724Z"
    },
    "papermill": {
     "duration": 13.521954,
     "end_time": "2024-11-05T05:02:32.224803",
     "exception": false,
     "start_time": "2024-11-05T05:02:18.702849",
     "status": "completed"
    },
    "tags": []
   },
   "outputs": [
    {
     "data": {
      "application/vnd.jupyter.widget-view+json": {
       "model_id": "2d6c890140264b7cae35263ca0543320",
       "version_major": 2,
       "version_minor": 0
      },
      "text/plain": [
       "config.json:   0%|          | 0.00/714 [00:00<?, ?B/s]"
      ]
     },
     "metadata": {},
     "output_type": "display_data"
    },
    {
     "data": {
      "application/vnd.jupyter.widget-view+json": {
       "model_id": "b4f5e5d7a1954a3099954f80215cbdb0",
       "version_major": 2,
       "version_minor": 0
      },
      "text/plain": [
       "vocab.txt:   0%|          | 0.00/843k [00:00<?, ?B/s]"
      ]
     },
     "metadata": {},
     "output_type": "display_data"
    },
    {
     "data": {
      "application/vnd.jupyter.widget-view+json": {
       "model_id": "c6c14f164d56439c9b387687bf21d2d3",
       "version_major": 2,
       "version_minor": 0
      },
      "text/plain": [
       "bpe.codes:   0%|          | 0.00/1.08M [00:00<?, ?B/s]"
      ]
     },
     "metadata": {},
     "output_type": "display_data"
    },
    {
     "name": "stderr",
     "output_type": "stream",
     "text": [
      "/opt/conda/lib/python3.10/site-packages/transformers/tokenization_utils_base.py:1601: FutureWarning: `clean_up_tokenization_spaces` was not set. It will be set to `True` by default. This behavior will be depracted in transformers v4.45, and will be then set to `False` by default. For more details check this issue: https://github.com/huggingface/transformers/issues/31884\n",
      "  warnings.warn(\n"
     ]
    }
   ],
   "source": [
    "from typing import List, Tuple\n",
    "from transformers import AutoTokenizer\n",
    "\n",
    "CT_M3_Complete_tokenizer = AutoTokenizer.from_pretrained(\"crisistransformers/CT-M3-Complete\")\n",
    "\n",
    "def tokenize_and_adjust_labels(sentence: List[str], labels: List[int], tokenizer) -> Tuple[List[int], List[int]]:\n",
    "    tokenized_input = tokenizer(sentence, is_split_into_words=True)\n",
    "    tokens = tokenizer.convert_ids_to_tokens(tokenized_input[\"input_ids\"])\n",
    "\n",
    "    updated_labels = []\n",
    "    current_label_idx = 0\n",
    "\n",
    "    for token in tokens:\n",
    "        if token in ['<s>', '</s>', '<unk>']:\n",
    "            updated_labels.append(-100)\n",
    "        elif token.endswith('@@'):  # Handle word pieces ending with @@\n",
    "            updated_labels.append(labels[current_label_idx])\n",
    "        else:\n",
    "            updated_labels.append(labels[current_label_idx])\n",
    "            current_label_idx += 1\n",
    "\n",
    "    return tokenized_input[\"input_ids\"], updated_labels\n",
    "\n",
    "# Apply the function to all sentences and labels\n",
    "tokenized_train_inputs = []\n",
    "adjusted_train_labels = []\n",
    "\n",
    "tokenized_dev_inputs = []\n",
    "adjusted_dev_labels = []\n",
    "\n",
    "for sentence, labels in zip(processed_train_sentences, processed_train_labels_ids):\n",
    "    input_ids, adjusted_labels = tokenize_and_adjust_labels(sentence, labels, CT_M3_Complete_tokenizer)\n",
    "    tokenized_train_inputs.append(input_ids)\n",
    "    adjusted_train_labels.append(adjusted_labels)\n",
    "\n",
    "for sentence, labels in zip(processed_dev_sentences, processed_dev_labels_ids):\n",
    "    input_ids, adjusted_labels = tokenize_and_adjust_labels(sentence, labels, CT_M3_Complete_tokenizer)\n",
    "    tokenized_dev_inputs.append(input_ids)\n",
    "    adjusted_dev_labels.append(adjusted_labels)"
   ]
  },
  {
   "cell_type": "code",
   "execution_count": 9,
   "id": "82c35b03",
   "metadata": {
    "execution": {
     "iopub.execute_input": "2024-11-05T05:02:32.244929Z",
     "iopub.status.busy": "2024-11-05T05:02:32.244477Z",
     "iopub.status.idle": "2024-11-05T05:02:32.253102Z",
     "shell.execute_reply": "2024-11-05T05:02:32.252257Z"
    },
    "papermill": {
     "duration": 0.02085,
     "end_time": "2024-11-05T05:02:32.255260",
     "exception": false,
     "start_time": "2024-11-05T05:02:32.234410",
     "status": "completed"
    },
    "tags": []
   },
   "outputs": [
    {
     "name": "stdout",
     "output_type": "stream",
     "text": [
      "Original sentence: ['Officials', 'say', 'people', 'are', 'still', 'unaccounted', 'for', 'and', 'at', 'least', 'people', 'have', 'died']\n",
      "Original labels: [3, 3, 3, 3, 3, 3, 3, 3, 3, 3, 3, 3, 3]\n",
      "\n",
      "Tokenized input: [0, 18164, 140, 83, 41, 135, 439, 47105, 19, 13, 35, 538, 83, 36, 1318, 2]\n",
      "Adjusted labels: [-100, 3, 3, 3, 3, 3, 3, 3, 3, 3, 3, 3, 3, 3, 3, -100]\n",
      "\n",
      "Length of tokenized input: 16\n",
      "Length of adjusted labels: 16\n",
      "\n",
      "Number of original sentences: 23\n",
      "Number of tokenized sentences: 2056\n",
      "\n",
      "Average original sentence length: 1775.65\n",
      "Average tokenized sentence length: 25.12\n"
     ]
    }
   ],
   "source": [
    "# Print an example to verify\n",
    "print(\"Original sentence:\", processed_train_sentences[2])\n",
    "print(\"Original labels:\", processed_train_labels_ids[2])\n",
    "print(\"\\nTokenized input:\", tokenized_train_inputs[2])\n",
    "print(\"Adjusted labels:\", adjusted_train_labels[2])\n",
    "\n",
    "# Verify lengths\n",
    "print(\"\\nLength of tokenized input:\", len(tokenized_train_inputs[2]))\n",
    "print(\"Length of adjusted labels:\", len(adjusted_train_labels[2]))\n",
    "\n",
    "# Print some statistics\n",
    "original_sentence_count = len(input_ids)\n",
    "tokenized_sentence_count = len(tokenized_train_inputs)\n",
    "print(f\"\\nNumber of original sentences: {original_sentence_count}\")\n",
    "print(f\"Number of tokenized sentences: {tokenized_sentence_count}\")\n",
    "\n",
    "average_original_length = sum(len(s) for s in processed_train_sentences) / original_sentence_count\n",
    "average_tokenized_length = sum(len(s) for s in tokenized_train_inputs) / tokenized_sentence_count\n",
    "print(f\"\\nAverage original sentence length: {average_original_length:.2f}\")\n",
    "print(f\"Average tokenized sentence length: {average_tokenized_length:.2f}\")"
   ]
  },
  {
   "cell_type": "markdown",
   "id": "693c2d39",
   "metadata": {
    "papermill": {
     "duration": 0.009058,
     "end_time": "2024-11-05T05:02:32.273394",
     "exception": false,
     "start_time": "2024-11-05T05:02:32.264336",
     "status": "completed"
    },
    "tags": []
   },
   "source": [
    "### Load the dataset"
   ]
  },
  {
   "cell_type": "code",
   "execution_count": 10,
   "id": "46ff4206",
   "metadata": {
    "execution": {
     "iopub.execute_input": "2024-11-05T05:02:32.292683Z",
     "iopub.status.busy": "2024-11-05T05:02:32.292369Z",
     "iopub.status.idle": "2024-11-05T05:02:33.100002Z",
     "shell.execute_reply": "2024-11-05T05:02:33.099134Z"
    },
    "papermill": {
     "duration": 0.819686,
     "end_time": "2024-11-05T05:02:33.102218",
     "exception": false,
     "start_time": "2024-11-05T05:02:32.282532",
     "status": "completed"
    },
    "tags": []
   },
   "outputs": [],
   "source": [
    "from datasets import Dataset\n",
    "\n",
    "# Convert to datasets\n",
    "tokenized_train = Dataset.from_dict({\n",
    "    \"input_ids\": tokenized_train_inputs,\n",
    "    \"labels\": adjusted_train_labels\n",
    "})\n",
    "tokenized_dev = Dataset.from_dict({\n",
    "    \"input_ids\": tokenized_dev_inputs,\n",
    "    \"labels\": adjusted_dev_labels\n",
    "})\n",
    "\n",
    "# Set up label mapping\n",
    "all_labels = set()\n",
    "\n",
    "for labels in train_labels + dev_labels:\n",
    "    all_labels.update(labels)\n",
    "\n",
    "label2id = {l: i for i, l in enumerate(label_list)}\n",
    "id2label = {i: l for l, i in label2id.items()}\n",
    "\n",
    "labels = sorted(list(all_labels))\n",
    "\n",
    "label_list = sorted(list(all_labels))"
   ]
  },
  {
   "cell_type": "markdown",
   "id": "c224ec84",
   "metadata": {
    "papermill": {
     "duration": 0.008977,
     "end_time": "2024-11-05T05:02:33.120750",
     "exception": false,
     "start_time": "2024-11-05T05:02:33.111773",
     "status": "completed"
    },
    "tags": []
   },
   "source": [
    "# Model"
   ]
  },
  {
   "cell_type": "markdown",
   "id": "79df78cb",
   "metadata": {
    "papermill": {
     "duration": 0.009147,
     "end_time": "2024-11-05T05:02:33.139203",
     "exception": false,
     "start_time": "2024-11-05T05:02:33.130056",
     "status": "completed"
    },
    "tags": []
   },
   "source": [
    "### Model configuration"
   ]
  },
  {
   "cell_type": "code",
   "execution_count": 11,
   "id": "394499cc",
   "metadata": {
    "execution": {
     "iopub.execute_input": "2024-11-05T05:02:33.159264Z",
     "iopub.status.busy": "2024-11-05T05:02:33.158786Z",
     "iopub.status.idle": "2024-11-05T05:02:53.486154Z",
     "shell.execute_reply": "2024-11-05T05:02:53.485182Z"
    },
    "papermill": {
     "duration": 20.340893,
     "end_time": "2024-11-05T05:02:53.489418",
     "exception": false,
     "start_time": "2024-11-05T05:02:33.148525",
     "status": "completed"
    },
    "tags": []
   },
   "outputs": [
    {
     "data": {
      "application/vnd.jupyter.widget-view+json": {
       "model_id": "0c32a2b41fc546dca4cceb13a1f4cc65",
       "version_major": 2,
       "version_minor": 0
      },
      "text/plain": [
       "pytorch_model.bin:   0%|          | 0.00/540M [00:00<?, ?B/s]"
      ]
     },
     "metadata": {},
     "output_type": "display_data"
    },
    {
     "name": "stderr",
     "output_type": "stream",
     "text": [
      "Some weights of RobertaForTokenClassification were not initialized from the model checkpoint at crisistransformers/CT-M3-Complete and are newly initialized: ['classifier.bias', 'classifier.weight']\n",
      "You should probably TRAIN this model on a down-stream task to be able to use it for predictions and inference.\n",
      "/opt/conda/lib/python3.10/site-packages/transformers/tokenization_utils_base.py:1601: FutureWarning: `clean_up_tokenization_spaces` was not set. It will be set to `True` by default. This behavior will be depracted in transformers v4.45, and will be then set to `False` by default. For more details check this issue: https://github.com/huggingface/transformers/issues/31884\n",
      "  warnings.warn(\n"
     ]
    }
   ],
   "source": [
    "from transformers import AutoConfig, AutoModel\n",
    "from transformers import AutoTokenizer, AutoModelForTokenClassification, TrainingArguments, Trainer, DataCollatorForTokenClassification, AutoModelForMaskedLM\n",
    "\n",
    "model_name = \"crisistransformers/CT-M3-Complete\"\n",
    "\n",
    "# Update model configuration\n",
    "config = AutoConfig.from_pretrained(model_name)\n",
    "config.num_labels = len(label_list)\n",
    "config.id2label = id2label\n",
    "config.label2id = label2id\n",
    "\n",
    "CT_M3_Complete_model = AutoModelForTokenClassification.from_pretrained(model_name, config=config)\n",
    "CT_M3_Complete_tokenizer = AutoTokenizer.from_pretrained(model_name)"
   ]
  },
  {
   "cell_type": "code",
   "execution_count": 12,
   "id": "4acca57d",
   "metadata": {
    "execution": {
     "iopub.execute_input": "2024-11-05T05:02:53.514099Z",
     "iopub.status.busy": "2024-11-05T05:02:53.513481Z",
     "iopub.status.idle": "2024-11-05T05:02:53.521111Z",
     "shell.execute_reply": "2024-11-05T05:02:53.520357Z"
    },
    "papermill": {
     "duration": 0.019961,
     "end_time": "2024-11-05T05:02:53.522894",
     "exception": false,
     "start_time": "2024-11-05T05:02:53.502933",
     "status": "completed"
    },
    "tags": []
   },
   "outputs": [],
   "source": [
    "from sklearn.metrics import precision_recall_fscore_support\n",
    "\n",
    "def compute_metrics(p):\n",
    "    predictions, labels = p\n",
    "    predictions = np.argmax(predictions, axis=2)\n",
    "\n",
    "    true_predictions = [\n",
    "        [label_list[p] for (p, l) in zip(prediction, label) if l != -100]\n",
    "        for prediction, label in zip(predictions, labels)\n",
    "    ]\n",
    "    true_labels = [\n",
    "        [label_list[l] for (p, l) in zip(prediction, label) if l != -100]\n",
    "        for prediction, label in zip(predictions, labels)\n",
    "    ]\n",
    "\n",
    "    results = precision_recall_fscore_support(sum(true_labels, []), sum(true_predictions, []), average='weighted')\n",
    "    return {\n",
    "        \"precision\": results[0],\n",
    "        \"recall\": results[1],\n",
    "        \"f1\": results[2],\n",
    "    }"
   ]
  },
  {
   "cell_type": "markdown",
   "id": "7d254036",
   "metadata": {
    "papermill": {
     "duration": 0.009118,
     "end_time": "2024-11-05T05:02:53.541248",
     "exception": false,
     "start_time": "2024-11-05T05:02:53.532130",
     "status": "completed"
    },
    "tags": []
   },
   "source": [
    "### Training"
   ]
  },
  {
   "cell_type": "code",
   "execution_count": 13,
   "id": "8f23b473",
   "metadata": {
    "execution": {
     "iopub.execute_input": "2024-11-05T05:02:53.561291Z",
     "iopub.status.busy": "2024-11-05T05:02:53.560998Z",
     "iopub.status.idle": "2024-11-05T05:02:53.707705Z",
     "shell.execute_reply": "2024-11-05T05:02:53.706690Z"
    },
    "papermill": {
     "duration": 0.158812,
     "end_time": "2024-11-05T05:02:53.709637",
     "exception": false,
     "start_time": "2024-11-05T05:02:53.550825",
     "status": "completed"
    },
    "tags": []
   },
   "outputs": [
    {
     "name": "stdout",
     "output_type": "stream",
     "text": [
      "Using device: cuda\n"
     ]
    }
   ],
   "source": [
    "import numpy as np\n",
    "import pandas as pd\n",
    "\n",
    "import torch\n",
    "from transformers import (\n",
    "    AutoConfig,\n",
    "    AutoTokenizer,\n",
    "    AutoModelForTokenClassification,\n",
    "    TrainingArguments,\n",
    "    Trainer,\n",
    "    DataCollatorForTokenClassification\n",
    ")\n",
    "\n",
    "# Check GPU availability\n",
    "device = torch.device(\"cuda\" if torch.cuda.is_available() else \"cpu\")\n",
    "print(f\"Using device: {device}\")\n",
    "\n",
    "# Set up model and tokenizer\n",
    "model_name = \"crisistransformers/CT-M3-Complete\"\n",
    "config = AutoConfig.from_pretrained(model_name)\n",
    "config.num_labels = len(label_list)\n",
    "config.id2label = id2label\n",
    "config.label2id = label2id"
   ]
  },
  {
   "cell_type": "code",
   "execution_count": 14,
   "id": "7814bb08",
   "metadata": {
    "execution": {
     "iopub.execute_input": "2024-11-05T05:02:53.730298Z",
     "iopub.status.busy": "2024-11-05T05:02:53.730022Z",
     "iopub.status.idle": "2024-11-05T05:02:54.155991Z",
     "shell.execute_reply": "2024-11-05T05:02:54.155183Z"
    },
    "papermill": {
     "duration": 0.438988,
     "end_time": "2024-11-05T05:02:54.158210",
     "exception": false,
     "start_time": "2024-11-05T05:02:53.719222",
     "status": "completed"
    },
    "tags": []
   },
   "outputs": [
    {
     "name": "stderr",
     "output_type": "stream",
     "text": [
      "/opt/conda/lib/python3.10/site-packages/transformers/training_args.py:1525: FutureWarning: `evaluation_strategy` is deprecated and will be removed in version 4.46 of 🤗 Transformers. Use `eval_strategy` instead\n",
      "  warnings.warn(\n"
     ]
    }
   ],
   "source": [
    "# Set up data collator\n",
    "data_collator = DataCollatorForTokenClassification(tokenizer=CT_M3_Complete_tokenizer)\n",
    "\n",
    "# Set up training arguments\n",
    "training_args = TrainingArguments(\n",
    "    output_dir=\"content/drive/MyDrive/CrisisTransformers\",\n",
    "    learning_rate=2e-5,\n",
    "    per_device_train_batch_size=8,  # Reduced batch size\n",
    "    per_device_eval_batch_size=8,\n",
    "    gradient_accumulation_steps=2,  # Accumulate gradients\n",
    "    num_train_epochs=10,\n",
    "    weight_decay=0.01,\n",
    "    evaluation_strategy=\"epoch\",\n",
    "    save_strategy=\"epoch\",\n",
    "    optim=\"adamw_torch\",  # Use PyTorch's AdamW implementation\n",
    "    logging_steps=100,  # Reduce logging frequency\n",
    "    save_total_limit=2,  # Keep only the last 2 checkpoints\n",
    "    report_to='none',  # Disable logging to wandb\n",
    ")\n",
    "\n",
    "# Set up trainer\n",
    "trainer = Trainer(\n",
    "    model=CT_M3_Complete_model,\n",
    "    args=training_args,\n",
    "    train_dataset=tokenized_train,\n",
    "    eval_dataset=tokenized_dev,\n",
    "    tokenizer=CT_M3_Complete_tokenizer,\n",
    "    data_collator=data_collator,\n",
    "    compute_metrics=compute_metrics,\n",
    ")"
   ]
  },
  {
   "cell_type": "code",
   "execution_count": 15,
   "id": "5d90636c",
   "metadata": {
    "execution": {
     "iopub.execute_input": "2024-11-05T05:02:54.178836Z",
     "iopub.status.busy": "2024-11-05T05:02:54.178507Z",
     "iopub.status.idle": "2024-11-05T05:23:19.293440Z",
     "shell.execute_reply": "2024-11-05T05:23:19.292529Z"
    },
    "papermill": {
     "duration": 1225.127381,
     "end_time": "2024-11-05T05:23:19.295451",
     "exception": false,
     "start_time": "2024-11-05T05:02:54.168070",
     "status": "completed"
    },
    "tags": []
   },
   "outputs": [
    {
     "name": "stderr",
     "output_type": "stream",
     "text": [
      "/opt/conda/lib/python3.10/site-packages/torch/nn/parallel/parallel_apply.py:79: FutureWarning: `torch.cuda.amp.autocast(args...)` is deprecated. Please use `torch.amp.autocast('cuda', args...)` instead.\n",
      "  with torch.cuda.device(device), torch.cuda.stream(stream), autocast(enabled=autocast_enabled):\n",
      "/opt/conda/lib/python3.10/site-packages/torch/nn/parallel/_functions.py:68: UserWarning: Was asked to gather along dimension 0, but all input tensors were scalars; will instead unsqueeze and return a vector.\n",
      "  warnings.warn('Was asked to gather along dimension 0, but all '\n"
     ]
    },
    {
     "data": {
      "text/html": [
       "\n",
       "    <div>\n",
       "      \n",
       "      <progress value='640' max='640' style='width:300px; height:20px; vertical-align: middle;'></progress>\n",
       "      [640/640 20:21, Epoch 9/10]\n",
       "    </div>\n",
       "    <table border=\"1\" class=\"dataframe\">\n",
       "  <thead>\n",
       " <tr style=\"text-align: left;\">\n",
       "      <th>Epoch</th>\n",
       "      <th>Training Loss</th>\n",
       "      <th>Validation Loss</th>\n",
       "      <th>Precision</th>\n",
       "      <th>Recall</th>\n",
       "      <th>F1</th>\n",
       "    </tr>\n",
       "  </thead>\n",
       "  <tbody>\n",
       "    <tr>\n",
       "      <td>0</td>\n",
       "      <td>No log</td>\n",
       "      <td>0.182221</td>\n",
       "      <td>0.944822</td>\n",
       "      <td>0.954226</td>\n",
       "      <td>0.947915</td>\n",
       "    </tr>\n",
       "    <tr>\n",
       "      <td>2</td>\n",
       "      <td>0.345600</td>\n",
       "      <td>0.114172</td>\n",
       "      <td>0.973293</td>\n",
       "      <td>0.973112</td>\n",
       "      <td>0.973009</td>\n",
       "    </tr>\n",
       "    <tr>\n",
       "      <td>4</td>\n",
       "      <td>0.082500</td>\n",
       "      <td>0.097796</td>\n",
       "      <td>0.975383</td>\n",
       "      <td>0.975086</td>\n",
       "      <td>0.975069</td>\n",
       "    </tr>\n",
       "    <tr>\n",
       "      <td>6</td>\n",
       "      <td>0.066400</td>\n",
       "      <td>0.097087</td>\n",
       "      <td>0.975819</td>\n",
       "      <td>0.975969</td>\n",
       "      <td>0.975773</td>\n",
       "    </tr>\n",
       "    <tr>\n",
       "      <td>8</td>\n",
       "      <td>0.056400</td>\n",
       "      <td>0.098451</td>\n",
       "      <td>0.975894</td>\n",
       "      <td>0.976066</td>\n",
       "      <td>0.975878</td>\n",
       "    </tr>\n",
       "    <tr>\n",
       "      <td>9</td>\n",
       "      <td>0.050400</td>\n",
       "      <td>0.097979</td>\n",
       "      <td>0.975884</td>\n",
       "      <td>0.976012</td>\n",
       "      <td>0.975837</td>\n",
       "    </tr>\n",
       "  </tbody>\n",
       "</table><p>"
      ],
      "text/plain": [
       "<IPython.core.display.HTML object>"
      ]
     },
     "metadata": {},
     "output_type": "display_data"
    },
    {
     "name": "stderr",
     "output_type": "stream",
     "text": [
      "/opt/conda/lib/python3.10/site-packages/sklearn/metrics/_classification.py:1344: UndefinedMetricWarning: Precision and F-score are ill-defined and being set to 0.0 in labels with no predicted samples. Use `zero_division` parameter to control this behavior.\n",
      "  _warn_prf(average, modifier, msg_start, len(result))\n",
      "/opt/conda/lib/python3.10/site-packages/torch/nn/parallel/parallel_apply.py:79: FutureWarning: `torch.cuda.amp.autocast(args...)` is deprecated. Please use `torch.amp.autocast('cuda', args...)` instead.\n",
      "  with torch.cuda.device(device), torch.cuda.stream(stream), autocast(enabled=autocast_enabled):\n",
      "/opt/conda/lib/python3.10/site-packages/torch/nn/parallel/_functions.py:68: UserWarning: Was asked to gather along dimension 0, but all input tensors were scalars; will instead unsqueeze and return a vector.\n",
      "  warnings.warn('Was asked to gather along dimension 0, but all '\n",
      "/opt/conda/lib/python3.10/site-packages/sklearn/metrics/_classification.py:1344: UndefinedMetricWarning: Precision and F-score are ill-defined and being set to 0.0 in labels with no predicted samples. Use `zero_division` parameter to control this behavior.\n",
      "  _warn_prf(average, modifier, msg_start, len(result))\n",
      "/opt/conda/lib/python3.10/site-packages/torch/nn/parallel/parallel_apply.py:79: FutureWarning: `torch.cuda.amp.autocast(args...)` is deprecated. Please use `torch.amp.autocast('cuda', args...)` instead.\n",
      "  with torch.cuda.device(device), torch.cuda.stream(stream), autocast(enabled=autocast_enabled):\n",
      "/opt/conda/lib/python3.10/site-packages/torch/nn/parallel/_functions.py:68: UserWarning: Was asked to gather along dimension 0, but all input tensors were scalars; will instead unsqueeze and return a vector.\n",
      "  warnings.warn('Was asked to gather along dimension 0, but all '\n",
      "/opt/conda/lib/python3.10/site-packages/sklearn/metrics/_classification.py:1344: UndefinedMetricWarning: Precision and F-score are ill-defined and being set to 0.0 in labels with no predicted samples. Use `zero_division` parameter to control this behavior.\n",
      "  _warn_prf(average, modifier, msg_start, len(result))\n",
      "/opt/conda/lib/python3.10/site-packages/torch/nn/parallel/parallel_apply.py:79: FutureWarning: `torch.cuda.amp.autocast(args...)` is deprecated. Please use `torch.amp.autocast('cuda', args...)` instead.\n",
      "  with torch.cuda.device(device), torch.cuda.stream(stream), autocast(enabled=autocast_enabled):\n",
      "/opt/conda/lib/python3.10/site-packages/torch/nn/parallel/_functions.py:68: UserWarning: Was asked to gather along dimension 0, but all input tensors were scalars; will instead unsqueeze and return a vector.\n",
      "  warnings.warn('Was asked to gather along dimension 0, but all '\n",
      "/opt/conda/lib/python3.10/site-packages/sklearn/metrics/_classification.py:1344: UndefinedMetricWarning: Precision and F-score are ill-defined and being set to 0.0 in labels with no predicted samples. Use `zero_division` parameter to control this behavior.\n",
      "  _warn_prf(average, modifier, msg_start, len(result))\n",
      "/opt/conda/lib/python3.10/site-packages/torch/nn/parallel/parallel_apply.py:79: FutureWarning: `torch.cuda.amp.autocast(args...)` is deprecated. Please use `torch.amp.autocast('cuda', args...)` instead.\n",
      "  with torch.cuda.device(device), torch.cuda.stream(stream), autocast(enabled=autocast_enabled):\n",
      "/opt/conda/lib/python3.10/site-packages/torch/nn/parallel/_functions.py:68: UserWarning: Was asked to gather along dimension 0, but all input tensors were scalars; will instead unsqueeze and return a vector.\n",
      "  warnings.warn('Was asked to gather along dimension 0, but all '\n",
      "/opt/conda/lib/python3.10/site-packages/sklearn/metrics/_classification.py:1344: UndefinedMetricWarning: Precision and F-score are ill-defined and being set to 0.0 in labels with no predicted samples. Use `zero_division` parameter to control this behavior.\n",
      "  _warn_prf(average, modifier, msg_start, len(result))\n",
      "/opt/conda/lib/python3.10/site-packages/torch/nn/parallel/parallel_apply.py:79: FutureWarning: `torch.cuda.amp.autocast(args...)` is deprecated. Please use `torch.amp.autocast('cuda', args...)` instead.\n",
      "  with torch.cuda.device(device), torch.cuda.stream(stream), autocast(enabled=autocast_enabled):\n",
      "/opt/conda/lib/python3.10/site-packages/torch/nn/parallel/_functions.py:68: UserWarning: Was asked to gather along dimension 0, but all input tensors were scalars; will instead unsqueeze and return a vector.\n",
      "  warnings.warn('Was asked to gather along dimension 0, but all '\n",
      "/opt/conda/lib/python3.10/site-packages/sklearn/metrics/_classification.py:1344: UndefinedMetricWarning: Precision and F-score are ill-defined and being set to 0.0 in labels with no predicted samples. Use `zero_division` parameter to control this behavior.\n",
      "  _warn_prf(average, modifier, msg_start, len(result))\n",
      "/opt/conda/lib/python3.10/site-packages/torch/nn/parallel/parallel_apply.py:79: FutureWarning: `torch.cuda.amp.autocast(args...)` is deprecated. Please use `torch.amp.autocast('cuda', args...)` instead.\n",
      "  with torch.cuda.device(device), torch.cuda.stream(stream), autocast(enabled=autocast_enabled):\n",
      "/opt/conda/lib/python3.10/site-packages/torch/nn/parallel/_functions.py:68: UserWarning: Was asked to gather along dimension 0, but all input tensors were scalars; will instead unsqueeze and return a vector.\n",
      "  warnings.warn('Was asked to gather along dimension 0, but all '\n",
      "/opt/conda/lib/python3.10/site-packages/sklearn/metrics/_classification.py:1344: UndefinedMetricWarning: Precision and F-score are ill-defined and being set to 0.0 in labels with no predicted samples. Use `zero_division` parameter to control this behavior.\n",
      "  _warn_prf(average, modifier, msg_start, len(result))\n",
      "/opt/conda/lib/python3.10/site-packages/torch/nn/parallel/parallel_apply.py:79: FutureWarning: `torch.cuda.amp.autocast(args...)` is deprecated. Please use `torch.amp.autocast('cuda', args...)` instead.\n",
      "  with torch.cuda.device(device), torch.cuda.stream(stream), autocast(enabled=autocast_enabled):\n",
      "/opt/conda/lib/python3.10/site-packages/torch/nn/parallel/_functions.py:68: UserWarning: Was asked to gather along dimension 0, but all input tensors were scalars; will instead unsqueeze and return a vector.\n",
      "  warnings.warn('Was asked to gather along dimension 0, but all '\n",
      "/opt/conda/lib/python3.10/site-packages/sklearn/metrics/_classification.py:1344: UndefinedMetricWarning: Precision and F-score are ill-defined and being set to 0.0 in labels with no predicted samples. Use `zero_division` parameter to control this behavior.\n",
      "  _warn_prf(average, modifier, msg_start, len(result))\n",
      "/opt/conda/lib/python3.10/site-packages/torch/nn/parallel/parallel_apply.py:79: FutureWarning: `torch.cuda.amp.autocast(args...)` is deprecated. Please use `torch.amp.autocast('cuda', args...)` instead.\n",
      "  with torch.cuda.device(device), torch.cuda.stream(stream), autocast(enabled=autocast_enabled):\n",
      "/opt/conda/lib/python3.10/site-packages/torch/nn/parallel/_functions.py:68: UserWarning: Was asked to gather along dimension 0, but all input tensors were scalars; will instead unsqueeze and return a vector.\n",
      "  warnings.warn('Was asked to gather along dimension 0, but all '\n",
      "/opt/conda/lib/python3.10/site-packages/sklearn/metrics/_classification.py:1344: UndefinedMetricWarning: Precision and F-score are ill-defined and being set to 0.0 in labels with no predicted samples. Use `zero_division` parameter to control this behavior.\n",
      "  _warn_prf(average, modifier, msg_start, len(result))\n",
      "/opt/conda/lib/python3.10/site-packages/torch/nn/parallel/parallel_apply.py:79: FutureWarning: `torch.cuda.amp.autocast(args...)` is deprecated. Please use `torch.amp.autocast('cuda', args...)` instead.\n",
      "  with torch.cuda.device(device), torch.cuda.stream(stream), autocast(enabled=autocast_enabled):\n",
      "/opt/conda/lib/python3.10/site-packages/torch/nn/parallel/_functions.py:68: UserWarning: Was asked to gather along dimension 0, but all input tensors were scalars; will instead unsqueeze and return a vector.\n",
      "  warnings.warn('Was asked to gather along dimension 0, but all '\n",
      "/opt/conda/lib/python3.10/site-packages/torch/nn/parallel/parallel_apply.py:79: FutureWarning: `torch.cuda.amp.autocast(args...)` is deprecated. Please use `torch.amp.autocast('cuda', args...)` instead.\n",
      "  with torch.cuda.device(device), torch.cuda.stream(stream), autocast(enabled=autocast_enabled):\n",
      "/opt/conda/lib/python3.10/site-packages/torch/nn/parallel/_functions.py:68: UserWarning: Was asked to gather along dimension 0, but all input tensors were scalars; will instead unsqueeze and return a vector.\n",
      "  warnings.warn('Was asked to gather along dimension 0, but all '\n",
      "/opt/conda/lib/python3.10/site-packages/sklearn/metrics/_classification.py:1344: UndefinedMetricWarning: Precision and F-score are ill-defined and being set to 0.0 in labels with no predicted samples. Use `zero_division` parameter to control this behavior.\n",
      "  _warn_prf(average, modifier, msg_start, len(result))\n"
     ]
    },
    {
     "data": {
      "text/plain": [
       "TrainOutput(global_step=640, training_loss=0.11569562945514918, metrics={'train_runtime': 1223.61, 'train_samples_per_second': 16.803, 'train_steps_per_second': 0.523, 'total_flos': 521337914313840.0, 'train_loss': 0.11569562945514918, 'epoch': 9.922480620155039})"
      ]
     },
     "execution_count": 15,
     "metadata": {},
     "output_type": "execute_result"
    }
   ],
   "source": [
    "# Start training\n",
    "trainer.train()"
   ]
  },
  {
   "cell_type": "markdown",
   "id": "eafa4177",
   "metadata": {
    "papermill": {
     "duration": 0.011581,
     "end_time": "2024-11-05T05:23:19.319043",
     "exception": false,
     "start_time": "2024-11-05T05:23:19.307462",
     "status": "completed"
    },
    "tags": []
   },
   "source": [
    "# Evaluate the model"
   ]
  },
  {
   "cell_type": "code",
   "execution_count": 16,
   "id": "47185d23",
   "metadata": {
    "execution": {
     "iopub.execute_input": "2024-11-05T05:23:19.343737Z",
     "iopub.status.busy": "2024-11-05T05:23:19.343408Z",
     "iopub.status.idle": "2024-11-05T05:24:53.384032Z",
     "shell.execute_reply": "2024-11-05T05:24:53.383107Z"
    },
    "papermill": {
     "duration": 94.068143,
     "end_time": "2024-11-05T05:24:53.398968",
     "exception": false,
     "start_time": "2024-11-05T05:23:19.330825",
     "status": "completed"
    },
    "tags": []
   },
   "outputs": [
    {
     "name": "stderr",
     "output_type": "stream",
     "text": [
      "/opt/conda/lib/python3.10/site-packages/torch/nn/parallel/parallel_apply.py:79: FutureWarning: `torch.cuda.amp.autocast(args...)` is deprecated. Please use `torch.amp.autocast('cuda', args...)` instead.\n",
      "  with torch.cuda.device(device), torch.cuda.stream(stream), autocast(enabled=autocast_enabled):\n",
      "/opt/conda/lib/python3.10/site-packages/torch/nn/parallel/_functions.py:68: UserWarning: Was asked to gather along dimension 0, but all input tensors were scalars; will instead unsqueeze and return a vector.\n",
      "  warnings.warn('Was asked to gather along dimension 0, but all '\n"
     ]
    },
    {
     "data": {
      "text/html": [
       "\n",
       "    <div>\n",
       "      \n",
       "      <progress value='900' max='900' style='width:300px; height:20px; vertical-align: middle;'></progress>\n",
       "      [900/900 01:05]\n",
       "    </div>\n",
       "    "
      ],
      "text/plain": [
       "<IPython.core.display.HTML object>"
      ]
     },
     "metadata": {},
     "output_type": "display_data"
    },
    {
     "name": "stdout",
     "output_type": "stream",
     "text": [
      "{'eval_loss': 0.09797942638397217, 'eval_precision': 0.975884383318524, 'eval_recall': 0.9760115389816247, 'eval_f1': 0.9758373210371024, 'eval_runtime': 94.0334, 'eval_samples_per_second': 153.052, 'eval_steps_per_second': 9.571, 'epoch': 9.922480620155039}\n"
     ]
    },
    {
     "name": "stderr",
     "output_type": "stream",
     "text": [
      "/opt/conda/lib/python3.10/site-packages/sklearn/metrics/_classification.py:1344: UndefinedMetricWarning: Precision and F-score are ill-defined and being set to 0.0 in labels with no predicted samples. Use `zero_division` parameter to control this behavior.\n",
      "  _warn_prf(average, modifier, msg_start, len(result))\n"
     ]
    }
   ],
   "source": [
    "# Evaluate the model\n",
    "eval_results = trainer.evaluate()\n",
    "print(eval_results)"
   ]
  },
  {
   "cell_type": "code",
   "execution_count": 17,
   "id": "e7a27411",
   "metadata": {
    "execution": {
     "iopub.execute_input": "2024-11-05T05:24:53.425262Z",
     "iopub.status.busy": "2024-11-05T05:24:53.424478Z",
     "iopub.status.idle": "2024-11-05T05:24:54.558397Z",
     "shell.execute_reply": "2024-11-05T05:24:54.557383Z"
    },
    "papermill": {
     "duration": 1.149247,
     "end_time": "2024-11-05T05:24:54.560662",
     "exception": false,
     "start_time": "2024-11-05T05:24:53.411415",
     "status": "completed"
    },
    "tags": []
   },
   "outputs": [
    {
     "name": "stdout",
     "output_type": "stream",
     "text": [
      "Model and associated files saved to /kaggle/working/results\n"
     ]
    }
   ],
   "source": [
    "import json\n",
    "import pandas as pd\n",
    "import torch\n",
    "import re\n",
    "from transformers import AutoTokenizer, AutoModelForTokenClassification\n",
    "\n",
    "# After training\n",
    "output_dir = \"/kaggle/working/results\"\n",
    "\n",
    "# Save the model\n",
    "trainer.save_model(output_dir)\n",
    "\n",
    "# Save the tokenizer\n",
    "CT_M3_Complete_tokenizer.save_pretrained(output_dir)\n",
    "\n",
    "# Save training arguments\n",
    "with open(f\"{output_dir}/training_args.json\", 'w') as f:\n",
    "    json.dump(training_args.to_dict(), f)\n",
    "\n",
    "# Save label mappings\n",
    "with open(f\"{output_dir}/label_mappings.json\", 'w') as f:\n",
    "    json.dump({\"label2id\": label2id, \"id2label\": id2label}, f)\n",
    "\n",
    "print(f\"Model and associated files saved to {output_dir}\")"
   ]
  },
  {
   "cell_type": "code",
   "execution_count": 18,
   "id": "9f4674fd",
   "metadata": {
    "execution": {
     "iopub.execute_input": "2024-11-05T05:24:54.586858Z",
     "iopub.status.busy": "2024-11-05T05:24:54.586510Z",
     "iopub.status.idle": "2024-11-05T05:24:54.794693Z",
     "shell.execute_reply": "2024-11-05T05:24:54.793599Z"
    },
    "papermill": {
     "duration": 0.223325,
     "end_time": "2024-11-05T05:24:54.796677",
     "exception": false,
     "start_time": "2024-11-05T05:24:54.573352",
     "status": "completed"
    },
    "tags": []
   },
   "outputs": [
    {
     "name": "stdout",
     "output_type": "stream",
     "text": [
      "{'0': 'B-LOC', '1': 'E-LOC', '2': 'I-LOC', '3': 'O', '4': 'S-LOC'}\n"
     ]
    }
   ],
   "source": [
    "# Load the model and tokenizer\n",
    "model = AutoModelForTokenClassification.from_pretrained(\"/kaggle/working/results\")\n",
    "tokenizer = AutoTokenizer.from_pretrained(\"/kaggle/working/results\")\n",
    "\n",
    "# Load label mappings\n",
    "with open(\"/kaggle/working/results/label_mappings.json\", 'r') as f:\n",
    "    label_mappings = json.load(f)\n",
    "\n",
    "id2label = label_mappings[\"id2label\"]\n",
    "print(id2label)"
   ]
  },
  {
   "cell_type": "markdown",
   "id": "d0946db6",
   "metadata": {
    "papermill": {
     "duration": 0.012604,
     "end_time": "2024-11-05T05:24:54.822331",
     "exception": false,
     "start_time": "2024-11-05T05:24:54.809727",
     "status": "completed"
    },
    "tags": []
   },
   "source": [
    "# Submission"
   ]
  },
  {
   "cell_type": "code",
   "execution_count": 19,
   "id": "22c9fc2a",
   "metadata": {
    "execution": {
     "iopub.execute_input": "2024-11-05T05:24:54.848437Z",
     "iopub.status.busy": "2024-11-05T05:24:54.848145Z",
     "iopub.status.idle": "2024-11-05T05:24:54.861382Z",
     "shell.execute_reply": "2024-11-05T05:24:54.860529Z"
    },
    "papermill": {
     "duration": 0.02858,
     "end_time": "2024-11-05T05:24:54.863220",
     "exception": false,
     "start_time": "2024-11-05T05:24:54.834640",
     "status": "completed"
    },
    "tags": []
   },
   "outputs": [],
   "source": [
    "def merge_subwords_and_locations(tokens_and_labels):\n",
    "    merged_words = []\n",
    "    merged_labels = []\n",
    "    current_word = []\n",
    "    current_labels = []\n",
    "    location_buffer = []\n",
    "\n",
    "    for token, label in tokens_and_labels:\n",
    "        if token.endswith('@@'):\n",
    "            current_word.append(token[:-2])  # Remove '@@'\n",
    "            current_labels.append(label)\n",
    "        else:\n",
    "            current_word.append(token)\n",
    "            current_labels.append(label)\n",
    "\n",
    "            # Merge subwords\n",
    "            merged_word = ''.join(current_word)\n",
    "\n",
    "            # Voting for the label\n",
    "            if len(set(current_labels)) == 1:\n",
    "                merged_label = current_labels[0]\n",
    "            else:\n",
    "                priority_order = ['B-LOC', 'I-LOC', 'E-LOC', 'S-LOC', 'O']\n",
    "                merged_label = next(label for label in priority_order if label in current_labels)\n",
    "\n",
    "            # Handle location merging\n",
    "            if merged_label.endswith('-LOC'):\n",
    "                if merged_label == 'B-LOC' or merged_label == 'S-LOC':\n",
    "                    if location_buffer:\n",
    "                        merged_words.append(' '.join(location_buffer))\n",
    "                        merged_labels.append('B-LOC')\n",
    "                        location_buffer = []\n",
    "                    location_buffer.append(merged_word)\n",
    "                elif merged_label == 'I-LOC' or merged_label == 'E-LOC':\n",
    "                    location_buffer.append(merged_word)\n",
    "                    if merged_label == 'E-LOC':\n",
    "                        merged_words.append(' '.join(location_buffer))\n",
    "                        merged_labels.append('B-LOC')\n",
    "                        location_buffer = []\n",
    "            else:\n",
    "                if location_buffer:\n",
    "                    merged_words.append(' '.join(location_buffer))\n",
    "                    merged_labels.append('B-LOC')\n",
    "                    location_buffer = []\n",
    "                merged_words.append(merged_word)\n",
    "                merged_labels.append(merged_label)\n",
    "\n",
    "            # Reset for next word\n",
    "            current_word = []\n",
    "            current_labels = []\n",
    "\n",
    "    # Handle any remaining location in the buffer\n",
    "    if location_buffer:\n",
    "        merged_words.append(' '.join(location_buffer))\n",
    "        merged_labels.append('B-LOC')\n",
    "\n",
    "    return list(zip(merged_words, merged_labels))\n",
    "\n",
    "# # Usage\n",
    "# merged_result = merge_subwords_and_locations(predicted_tokens)\n",
    "\n",
    "# # Extract locations\n",
    "# locations = [word for word, label in merged_result if label == 'B-LOC']\n",
    "# print(\"\\nExtracted locations:\", locations)"
   ]
  },
  {
   "cell_type": "code",
   "execution_count": 20,
   "id": "b63c9c4b",
   "metadata": {
    "execution": {
     "iopub.execute_input": "2024-11-05T05:24:54.889513Z",
     "iopub.status.busy": "2024-11-05T05:24:54.889008Z",
     "iopub.status.idle": "2024-11-05T05:24:54.901001Z",
     "shell.execute_reply": "2024-11-05T05:24:54.900150Z"
    },
    "papermill": {
     "duration": 0.027287,
     "end_time": "2024-11-05T05:24:54.902838",
     "exception": false,
     "start_time": "2024-11-05T05:24:54.875551",
     "status": "completed"
    },
    "tags": []
   },
   "outputs": [],
   "source": [
    "def predict(text):\n",
    "    inputs = tokenizer(text, return_tensors=\"pt\", padding=True)\n",
    "\n",
    "    with torch.no_grad():\n",
    "        logits = model(**inputs).logits\n",
    "\n",
    "    predictions = torch.argmax(logits, dim=2)\n",
    "    predicted_token_class = [model.config.id2label[t.item()] for t in predictions[0]]\n",
    "\n",
    "    tokens = []\n",
    "    predicted_tokens = []\n",
    "\n",
    "    locations = []\n",
    "    current_location = []\n",
    "\n",
    "    for token, prediction in zip(tokenizer.convert_ids_to_tokens(inputs[\"input_ids\"][0]), predictions[0]):\n",
    "        if int(prediction) == 0:  # Beginning of a new location\n",
    "            current_location = [token]\n",
    "        elif int(prediction) == 2:  # Inside a location\n",
    "            if current_location:  # Make sure we started a location\n",
    "                current_location.append(token)\n",
    "        elif int(prediction) == 1:  # End of a location\n",
    "            if current_location:  # Make sure we're inside a location\n",
    "                current_location.append(token)\n",
    "                locations.append(\" \".join(current_location))\n",
    "                current_location = []\n",
    "        elif int(prediction) == 4:  # Single token location\n",
    "            locations.append(token)\n",
    "        else:\n",
    "            current_location = []  # Reset if prediction is 'O' or anything else\n",
    "\n",
    "        # Remove special tokens and clean up the text\n",
    "        if token not in ['<s>', '</s>', '<unk>']:\n",
    "            cleaned_token = token[1:] if token.startswith('Ġ') else token\n",
    "\n",
    "            if token.startswith('##'):\n",
    "                if predicted_tokens:\n",
    "                    predicted_tokens[-1] = (predicted_tokens[-1][0] + cleaned_token, predicted_tokens[-1][1])\n",
    "                continue\n",
    "\n",
    "            tokens.append(cleaned_token)\n",
    "            predicted_tokens.append((cleaned_token, id2label[str(prediction.item())]))\n",
    "\n",
    "    # Usage\n",
    "    merged_result = merge_subwords_and_locations(predicted_tokens)\n",
    "\n",
    "    # Extract locations\n",
    "    locations = [word for word, label in merged_result if label == 'B-LOC']\n",
    "\n",
    "    # Extract unique locations and sort alphabetically\n",
    "    unique_locations = sorted(set(locations))\n",
    "\n",
    "    return unique_locations, tokens, predictions, predicted_tokens"
   ]
  },
  {
   "cell_type": "code",
   "execution_count": 21,
   "id": "b20cb329",
   "metadata": {
    "execution": {
     "iopub.execute_input": "2024-11-05T05:24:54.928704Z",
     "iopub.status.busy": "2024-11-05T05:24:54.928395Z",
     "iopub.status.idle": "2024-11-05T05:24:57.369384Z",
     "shell.execute_reply": "2024-11-05T05:24:57.368619Z"
    },
    "papermill": {
     "duration": 2.456264,
     "end_time": "2024-11-05T05:24:57.371482",
     "exception": false,
     "start_time": "2024-11-05T05:24:54.915218",
     "status": "completed"
    },
    "tags": []
   },
   "outputs": [
    {
     "name": "stdout",
     "output_type": "stream",
     "text": [
      "[nltk_data] Downloading package punkt to /usr/share/nltk_data...\n",
      "[nltk_data]   Package punkt is already up-to-date!\n",
      "[nltk_data] Downloading package stopwords to /usr/share/nltk_data...\n",
      "[nltk_data]   Package stopwords is already up-to-date!\n",
      "[nltk_data] Downloading package wordnet to /usr/share/nltk_data...\n",
      "[nltk_data]   Package wordnet is already up-to-date!\n"
     ]
    }
   ],
   "source": [
    "import re\n",
    "import nltk\n",
    "from nltk.corpus import stopwords\n",
    "from nltk.tokenize import word_tokenize\n",
    "from nltk.stem import WordNetLemmatizer\n",
    "\n",
    "test = pd.read_csv(\"/kaggle/input/zindi-learn-location-mention-recognition-challenge/Test.csv\")\n",
    "\n",
    "nltk.download('punkt')\n",
    "nltk.download('stopwords')\n",
    "nltk.download('wordnet')\n",
    "\n",
    "import nltk\n",
    "nltk.data.path.append('/usr/share/nltk_data/')\n",
    "\n",
    "def preprocess_text(text):\n",
    "    # Remove URLs\n",
    "    text = re.sub(r'http\\S+|www\\S+|https\\S+', '<URL>', text, flags=re.MULTILINE)\n",
    "\n",
    "    # Remove user mentions\n",
    "    text = re.sub(r'@\\w+', '', text)\n",
    "\n",
    "    # Remove special characters and numbers\n",
    "    text = re.sub(r'[^a-zA-Z0-9\\s\\./\\-_]', '', text)\n",
    "\n",
    "    # Tokenize\n",
    "    tokens = word_tokenize(text)\n",
    "\n",
    "    # Remove stopwords\n",
    "    stop_words = set(stopwords.words('english'))\n",
    "    tokens = [token for token in tokens if token not in stop_words]\n",
    "\n",
    "#     # Lemmatize\n",
    "#     lemmatizer = WordNetLemmatizer()\n",
    "#     tokens = [lemmatizer.lemmatize(token) for token in tokens]\n",
    "\n",
    "    # Join tokens back into a string\n",
    "    processed_text = ' '.join(tokens)\n",
    "\n",
    "    return processed_text\n",
    "\n",
    "# Apply preprocessing to each text in your dataset\n",
    "test['processed_text'] = test['text'].apply(preprocess_text)"
   ]
  },
  {
   "cell_type": "code",
   "execution_count": 22,
   "id": "8d6047c9",
   "metadata": {
    "execution": {
     "iopub.execute_input": "2024-11-05T05:24:57.398705Z",
     "iopub.status.busy": "2024-11-05T05:24:57.398391Z",
     "iopub.status.idle": "2024-11-05T05:28:06.899410Z",
     "shell.execute_reply": "2024-11-05T05:28:06.898587Z"
    },
    "papermill": {
     "duration": 189.517091,
     "end_time": "2024-11-05T05:28:06.901715",
     "exception": false,
     "start_time": "2024-11-05T05:24:57.384624",
     "status": "completed"
    },
    "tags": []
   },
   "outputs": [
    {
     "name": "stdout",
     "output_type": "stream",
     "text": [
      "Processing row 0\n",
      "Processing row 100\n",
      "Processing row 200\n",
      "Processing row 300\n",
      "Processing row 400\n",
      "Processing row 500\n",
      "Processing row 600\n",
      "Processing row 700\n",
      "Processing row 800\n",
      "Processing row 900\n",
      "Processing row 1000\n",
      "Processing row 1100\n",
      "Processing row 1200\n",
      "Processing row 1300\n",
      "Processing row 1400\n",
      "Processing row 1500\n",
      "Processing row 1600\n",
      "Processing row 1700\n",
      "Processing row 1800\n",
      "Processing row 1900\n",
      "Processing row 2000\n",
      "Processing row 2100\n",
      "Processing row 2200\n",
      "Processing row 2300\n",
      "Processing row 2400\n",
      "Processing row 2500\n",
      "Processing row 2600\n",
      "Processing row 2700\n",
      "Processing row 2800\n",
      "Processing row 2900\n"
     ]
    }
   ],
   "source": [
    "import pandas as pd\n",
    "\n",
    "submission = []\n",
    "\n",
    "for index, row in test.iterrows():\n",
    "    if index % 100 == 0:\n",
    "        print(f\"Processing row {index}\")\n",
    "\n",
    "    id = row['tweet_id']\n",
    "    processed_text = row['processed_text']\n",
    "\n",
    "    unique_locations, tokens, predictions, predicted_tokens = predict(processed_text)\n",
    "\n",
    "    # Join locations with space, or use a single space if no locations\n",
    "    locations_string = ' '.join(unique_locations) if unique_locations else ' '\n",
    "\n",
    "    submission.append({'ID': id, 'Locations': locations_string})\n",
    "\n",
    "# Create DataFrame from submission list\n",
    "submission_df = pd.DataFrame(submission)\n",
    "\n",
    "# Save to CSV\n",
    "submission_df.to_csv('submission.csv', index=False)"
   ]
  },
  {
   "cell_type": "code",
   "execution_count": 23,
   "id": "7d8fcd06",
   "metadata": {
    "execution": {
     "iopub.execute_input": "2024-11-05T05:28:06.935212Z",
     "iopub.status.busy": "2024-11-05T05:28:06.934894Z",
     "iopub.status.idle": "2024-11-05T05:28:06.952873Z",
     "shell.execute_reply": "2024-11-05T05:28:06.951943Z"
    },
    "papermill": {
     "duration": 0.036229,
     "end_time": "2024-11-05T05:28:06.954935",
     "exception": false,
     "start_time": "2024-11-05T05:28:06.918706",
     "status": "completed"
    },
    "tags": []
   },
   "outputs": [
    {
     "data": {
      "text/html": [
       "<div>\n",
       "<style scoped>\n",
       "    .dataframe tbody tr th:only-of-type {\n",
       "        vertical-align: middle;\n",
       "    }\n",
       "\n",
       "    .dataframe tbody tr th {\n",
       "        vertical-align: top;\n",
       "    }\n",
       "\n",
       "    .dataframe thead th {\n",
       "        text-align: right;\n",
       "    }\n",
       "</style>\n",
       "<table border=\"1\" class=\"dataframe\">\n",
       "  <thead>\n",
       "    <tr style=\"text-align: right;\">\n",
       "      <th></th>\n",
       "      <th>ID</th>\n",
       "      <th>Locations</th>\n",
       "    </tr>\n",
       "  </thead>\n",
       "  <tbody>\n",
       "    <tr>\n",
       "      <th>0</th>\n",
       "      <td>ID_1001154804658286592</td>\n",
       "      <td>New England New Orleans</td>\n",
       "    </tr>\n",
       "    <tr>\n",
       "      <th>1</th>\n",
       "      <td>ID_1001155505459486720</td>\n",
       "      <td>ELLICOTT CITY MARYLAND</td>\n",
       "    </tr>\n",
       "    <tr>\n",
       "      <th>2</th>\n",
       "      <td>ID_1001155756371136512</td>\n",
       "      <td>Ellicott City Maryland</td>\n",
       "    </tr>\n",
       "    <tr>\n",
       "      <th>3</th>\n",
       "      <td>ID_1001159445194399744</td>\n",
       "      <td>Ellicott City Maryland Md</td>\n",
       "    </tr>\n",
       "    <tr>\n",
       "      <th>4</th>\n",
       "      <td>ID_1001164907587538944</td>\n",
       "      <td>Ellicott City Maryland</td>\n",
       "    </tr>\n",
       "    <tr>\n",
       "      <th>...</th>\n",
       "      <td>...</td>\n",
       "      <td>...</td>\n",
       "    </tr>\n",
       "    <tr>\n",
       "      <th>2937</th>\n",
       "      <td>ID_915017703055749120</td>\n",
       "      <td>Mexico</td>\n",
       "    </tr>\n",
       "    <tr>\n",
       "      <th>2938</th>\n",
       "      <td>ID_915026957758328832</td>\n",
       "      <td>Las Vegas Mexico</td>\n",
       "    </tr>\n",
       "    <tr>\n",
       "      <th>2939</th>\n",
       "      <td>ID_915253441726889984</td>\n",
       "      <td>Calgary Mexico City</td>\n",
       "    </tr>\n",
       "    <tr>\n",
       "      <th>2940</th>\n",
       "      <td>ID_915971980859400192</td>\n",
       "      <td>Chiapas Mexicos Oaxaca</td>\n",
       "    </tr>\n",
       "    <tr>\n",
       "      <th>2941</th>\n",
       "      <td>ID_916099144116191232</td>\n",
       "      <td>Mexico</td>\n",
       "    </tr>\n",
       "  </tbody>\n",
       "</table>\n",
       "<p>2942 rows × 2 columns</p>\n",
       "</div>"
      ],
      "text/plain": [
       "                          ID                  Locations\n",
       "0     ID_1001154804658286592    New England New Orleans\n",
       "1     ID_1001155505459486720     ELLICOTT CITY MARYLAND\n",
       "2     ID_1001155756371136512     Ellicott City Maryland\n",
       "3     ID_1001159445194399744  Ellicott City Maryland Md\n",
       "4     ID_1001164907587538944     Ellicott City Maryland\n",
       "...                      ...                        ...\n",
       "2937   ID_915017703055749120                     Mexico\n",
       "2938   ID_915026957758328832           Las Vegas Mexico\n",
       "2939   ID_915253441726889984        Calgary Mexico City\n",
       "2940   ID_915971980859400192     Chiapas Mexicos Oaxaca\n",
       "2941   ID_916099144116191232                     Mexico\n",
       "\n",
       "[2942 rows x 2 columns]"
      ]
     },
     "execution_count": 23,
     "metadata": {},
     "output_type": "execute_result"
    }
   ],
   "source": [
    "submission_df"
   ]
  },
  {
   "cell_type": "code",
   "execution_count": 24,
   "id": "9da493ce",
   "metadata": {
    "execution": {
     "iopub.execute_input": "2024-11-05T05:28:06.987218Z",
     "iopub.status.busy": "2024-11-05T05:28:06.986897Z",
     "iopub.status.idle": "2024-11-05T05:28:08.044753Z",
     "shell.execute_reply": "2024-11-05T05:28:08.043621Z"
    },
    "papermill": {
     "duration": 1.076215,
     "end_time": "2024-11-05T05:28:08.046860",
     "exception": false,
     "start_time": "2024-11-05T05:28:06.970645",
     "status": "completed"
    },
    "tags": []
   },
   "outputs": [
    {
     "name": "stderr",
     "output_type": "stream",
     "text": [
      "/opt/conda/lib/python3.10/pty.py:89: RuntimeWarning: os.fork() was called. os.fork() is incompatible with multithreaded code, and JAX is multithreaded, so this will likely lead to a deadlock.\n",
      "  pid, fd = os.forkpty()\n"
     ]
    },
    {
     "name": "stdout",
     "output_type": "stream",
     "text": [
      "ID,Locations\r\n",
      "ID_1001154804658286592,New England New Orleans\r\n",
      "ID_1001155505459486720,ELLICOTT CITY MARYLAND\r\n",
      "ID_1001155756371136512,Ellicott City Maryland\r\n",
      "ID_1001159445194399744,Ellicott City Maryland Md\r\n"
     ]
    }
   ],
   "source": [
    "!head -n 5 /kaggle/working/submission.csv"
   ]
  },
  {
   "cell_type": "code",
   "execution_count": null,
   "id": "91d2b19e",
   "metadata": {
    "papermill": {
     "duration": 0.015287,
     "end_time": "2024-11-05T05:28:08.077903",
     "exception": false,
     "start_time": "2024-11-05T05:28:08.062616",
     "status": "completed"
    },
    "tags": []
   },
   "outputs": [],
   "source": []
  }
 ],
 "metadata": {
  "kaggle": {
   "accelerator": "nvidiaTeslaT4",
   "dataSources": [
    {
     "datasetId": 5713349,
     "sourceId": 9409478,
     "sourceType": "datasetVersion"
    }
   ],
   "dockerImageVersionId": 30762,
   "isGpuEnabled": true,
   "isInternetEnabled": true,
   "language": "python",
   "sourceType": "notebook"
  },
  "kernelspec": {
   "display_name": "Python 3",
   "language": "python",
   "name": "python3"
  },
  "language_info": {
   "codemirror_mode": {
    "name": "ipython",
    "version": 3
   },
   "file_extension": ".py",
   "mimetype": "text/x-python",
   "name": "python",
   "nbconvert_exporter": "python",
   "pygments_lexer": "ipython3",
   "version": "3.10.14"
  },
  "papermill": {
   "default_parameters": {},
   "duration": 1558.370677,
   "end_time": "2024-11-05T05:28:11.857112",
   "environment_variables": {},
   "exception": null,
   "input_path": "__notebook__.ipynb",
   "output_path": "__notebook__.ipynb",
   "parameters": {},
   "start_time": "2024-11-05T05:02:13.486435",
   "version": "2.6.0"
  },
  "widgets": {
   "application/vnd.jupyter.widget-state+json": {
    "state": {
     "0c13f10d67d34e5d8d11a657f903be66": {
      "model_module": "@jupyter-widgets/controls",
      "model_module_version": "1.5.0",
      "model_name": "HTMLModel",
      "state": {
       "_dom_classes": [],
       "_model_module": "@jupyter-widgets/controls",
       "_model_module_version": "1.5.0",
       "_model_name": "HTMLModel",
       "_view_count": null,
       "_view_module": "@jupyter-widgets/controls",
       "_view_module_version": "1.5.0",
       "_view_name": "HTMLView",
       "description": "",
       "description_tooltip": null,
       "layout": "IPY_MODEL_b0ff3aa0cddf42c38f9fe73b0bf8f23f",
       "placeholder": "​",
       "style": "IPY_MODEL_ded82aa3fc3c423ab40fd24156c02967",
       "value": " 1.08M/1.08M [00:00&lt;00:00, 25.5MB/s]"
      }
     },
     "0c32a2b41fc546dca4cceb13a1f4cc65": {
      "model_module": "@jupyter-widgets/controls",
      "model_module_version": "1.5.0",
      "model_name": "HBoxModel",
      "state": {
       "_dom_classes": [],
       "_model_module": "@jupyter-widgets/controls",
       "_model_module_version": "1.5.0",
       "_model_name": "HBoxModel",
       "_view_count": null,
       "_view_module": "@jupyter-widgets/controls",
       "_view_module_version": "1.5.0",
       "_view_name": "HBoxView",
       "box_style": "",
       "children": [
        "IPY_MODEL_60a8d61ac2954324acbddd29191c9eeb",
        "IPY_MODEL_3a3199b7ed9647c1936cbfcaa8e66a0a",
        "IPY_MODEL_b5612896cecd434daf0cb890aff4ac8d"
       ],
       "layout": "IPY_MODEL_b131177298464b6c9a96586a9777acde"
      }
     },
     "12f9d354215f4973a93b2a3c6f6fdd75": {
      "model_module": "@jupyter-widgets/controls",
      "model_module_version": "1.5.0",
      "model_name": "ProgressStyleModel",
      "state": {
       "_model_module": "@jupyter-widgets/controls",
       "_model_module_version": "1.5.0",
       "_model_name": "ProgressStyleModel",
       "_view_count": null,
       "_view_module": "@jupyter-widgets/base",
       "_view_module_version": "1.2.0",
       "_view_name": "StyleView",
       "bar_color": null,
       "description_width": ""
      }
     },
     "147a12af5e9b49b4854eb80acc42ec4e": {
      "model_module": "@jupyter-widgets/controls",
      "model_module_version": "1.5.0",
      "model_name": "HTMLModel",
      "state": {
       "_dom_classes": [],
       "_model_module": "@jupyter-widgets/controls",
       "_model_module_version": "1.5.0",
       "_model_name": "HTMLModel",
       "_view_count": null,
       "_view_module": "@jupyter-widgets/controls",
       "_view_module_version": "1.5.0",
       "_view_name": "HTMLView",
       "description": "",
       "description_tooltip": null,
       "layout": "IPY_MODEL_82d197ee19d54795a46d35a12cc67174",
       "placeholder": "​",
       "style": "IPY_MODEL_bf46965f7d6042fe9656c79f382753a1",
       "value": "config.json: 100%"
      }
     },
     "1660e037fcc04ff48bc284a662086317": {
      "model_module": "@jupyter-widgets/controls",
      "model_module_version": "1.5.0",
      "model_name": "FloatProgressModel",
      "state": {
       "_dom_classes": [],
       "_model_module": "@jupyter-widgets/controls",
       "_model_module_version": "1.5.0",
       "_model_name": "FloatProgressModel",
       "_view_count": null,
       "_view_module": "@jupyter-widgets/controls",
       "_view_module_version": "1.5.0",
       "_view_name": "ProgressView",
       "bar_style": "success",
       "description": "",
       "description_tooltip": null,
       "layout": "IPY_MODEL_8c116b820478421087caa976ca67f51f",
       "max": 843438.0,
       "min": 0.0,
       "orientation": "horizontal",
       "style": "IPY_MODEL_29d368345bbf40fc861efd7e4200293d",
       "value": 843438.0
      }
     },
     "19ce772ff5ec473f95c6c93e20aa1a8e": {
      "model_module": "@jupyter-widgets/controls",
      "model_module_version": "1.5.0",
      "model_name": "HTMLModel",
      "state": {
       "_dom_classes": [],
       "_model_module": "@jupyter-widgets/controls",
       "_model_module_version": "1.5.0",
       "_model_name": "HTMLModel",
       "_view_count": null,
       "_view_module": "@jupyter-widgets/controls",
       "_view_module_version": "1.5.0",
       "_view_name": "HTMLView",
       "description": "",
       "description_tooltip": null,
       "layout": "IPY_MODEL_bd0af34edeb846d98926b420743589a6",
       "placeholder": "​",
       "style": "IPY_MODEL_2a87ae56f5b44eda937e4d005ceaac31",
       "value": "vocab.txt: 100%"
      }
     },
     "1b75095656174d6d8d48e4b73cc47246": {
      "model_module": "@jupyter-widgets/controls",
      "model_module_version": "1.5.0",
      "model_name": "FloatProgressModel",
      "state": {
       "_dom_classes": [],
       "_model_module": "@jupyter-widgets/controls",
       "_model_module_version": "1.5.0",
       "_model_name": "FloatProgressModel",
       "_view_count": null,
       "_view_module": "@jupyter-widgets/controls",
       "_view_module_version": "1.5.0",
       "_view_name": "ProgressView",
       "bar_style": "success",
       "description": "",
       "description_tooltip": null,
       "layout": "IPY_MODEL_85b30f17cd1847afbe3f2629920fc118",
       "max": 1078931.0,
       "min": 0.0,
       "orientation": "horizontal",
       "style": "IPY_MODEL_e8cec4c0879e4dcdb0d5b0da9dc875df",
       "value": 1078931.0
      }
     },
     "2068018627f84fde870b887b39cef6e2": {
      "model_module": "@jupyter-widgets/base",
      "model_module_version": "1.2.0",
      "model_name": "LayoutModel",
      "state": {
       "_model_module": "@jupyter-widgets/base",
       "_model_module_version": "1.2.0",
       "_model_name": "LayoutModel",
       "_view_count": null,
       "_view_module": "@jupyter-widgets/base",
       "_view_module_version": "1.2.0",
       "_view_name": "LayoutView",
       "align_content": null,
       "align_items": null,
       "align_self": null,
       "border": null,
       "bottom": null,
       "display": null,
       "flex": null,
       "flex_flow": null,
       "grid_area": null,
       "grid_auto_columns": null,
       "grid_auto_flow": null,
       "grid_auto_rows": null,
       "grid_column": null,
       "grid_gap": null,
       "grid_row": null,
       "grid_template_areas": null,
       "grid_template_columns": null,
       "grid_template_rows": null,
       "height": null,
       "justify_content": null,
       "justify_items": null,
       "left": null,
       "margin": null,
       "max_height": null,
       "max_width": null,
       "min_height": null,
       "min_width": null,
       "object_fit": null,
       "object_position": null,
       "order": null,
       "overflow": null,
       "overflow_x": null,
       "overflow_y": null,
       "padding": null,
       "right": null,
       "top": null,
       "visibility": null,
       "width": null
      }
     },
     "23e8dbba188740be842a5e2dfa20fe41": {
      "model_module": "@jupyter-widgets/base",
      "model_module_version": "1.2.0",
      "model_name": "LayoutModel",
      "state": {
       "_model_module": "@jupyter-widgets/base",
       "_model_module_version": "1.2.0",
       "_model_name": "LayoutModel",
       "_view_count": null,
       "_view_module": "@jupyter-widgets/base",
       "_view_module_version": "1.2.0",
       "_view_name": "LayoutView",
       "align_content": null,
       "align_items": null,
       "align_self": null,
       "border": null,
       "bottom": null,
       "display": null,
       "flex": null,
       "flex_flow": null,
       "grid_area": null,
       "grid_auto_columns": null,
       "grid_auto_flow": null,
       "grid_auto_rows": null,
       "grid_column": null,
       "grid_gap": null,
       "grid_row": null,
       "grid_template_areas": null,
       "grid_template_columns": null,
       "grid_template_rows": null,
       "height": null,
       "justify_content": null,
       "justify_items": null,
       "left": null,
       "margin": null,
       "max_height": null,
       "max_width": null,
       "min_height": null,
       "min_width": null,
       "object_fit": null,
       "object_position": null,
       "order": null,
       "overflow": null,
       "overflow_x": null,
       "overflow_y": null,
       "padding": null,
       "right": null,
       "top": null,
       "visibility": null,
       "width": null
      }
     },
     "29d368345bbf40fc861efd7e4200293d": {
      "model_module": "@jupyter-widgets/controls",
      "model_module_version": "1.5.0",
      "model_name": "ProgressStyleModel",
      "state": {
       "_model_module": "@jupyter-widgets/controls",
       "_model_module_version": "1.5.0",
       "_model_name": "ProgressStyleModel",
       "_view_count": null,
       "_view_module": "@jupyter-widgets/base",
       "_view_module_version": "1.2.0",
       "_view_name": "StyleView",
       "bar_color": null,
       "description_width": ""
      }
     },
     "2a87ae56f5b44eda937e4d005ceaac31": {
      "model_module": "@jupyter-widgets/controls",
      "model_module_version": "1.5.0",
      "model_name": "DescriptionStyleModel",
      "state": {
       "_model_module": "@jupyter-widgets/controls",
       "_model_module_version": "1.5.0",
       "_model_name": "DescriptionStyleModel",
       "_view_count": null,
       "_view_module": "@jupyter-widgets/base",
       "_view_module_version": "1.2.0",
       "_view_name": "StyleView",
       "description_width": ""
      }
     },
     "2afadea83eea45869e92cf46995e7931": {
      "model_module": "@jupyter-widgets/controls",
      "model_module_version": "1.5.0",
      "model_name": "DescriptionStyleModel",
      "state": {
       "_model_module": "@jupyter-widgets/controls",
       "_model_module_version": "1.5.0",
       "_model_name": "DescriptionStyleModel",
       "_view_count": null,
       "_view_module": "@jupyter-widgets/base",
       "_view_module_version": "1.2.0",
       "_view_name": "StyleView",
       "description_width": ""
      }
     },
     "2d28a7f0440e4680b159beaa53239194": {
      "model_module": "@jupyter-widgets/controls",
      "model_module_version": "1.5.0",
      "model_name": "FloatProgressModel",
      "state": {
       "_dom_classes": [],
       "_model_module": "@jupyter-widgets/controls",
       "_model_module_version": "1.5.0",
       "_model_name": "FloatProgressModel",
       "_view_count": null,
       "_view_module": "@jupyter-widgets/controls",
       "_view_module_version": "1.5.0",
       "_view_name": "ProgressView",
       "bar_style": "success",
       "description": "",
       "description_tooltip": null,
       "layout": "IPY_MODEL_cc6f8c734b3d40abb5601a01b8a54a65",
       "max": 714.0,
       "min": 0.0,
       "orientation": "horizontal",
       "style": "IPY_MODEL_12f9d354215f4973a93b2a3c6f6fdd75",
       "value": 714.0
      }
     },
     "2d6c890140264b7cae35263ca0543320": {
      "model_module": "@jupyter-widgets/controls",
      "model_module_version": "1.5.0",
      "model_name": "HBoxModel",
      "state": {
       "_dom_classes": [],
       "_model_module": "@jupyter-widgets/controls",
       "_model_module_version": "1.5.0",
       "_model_name": "HBoxModel",
       "_view_count": null,
       "_view_module": "@jupyter-widgets/controls",
       "_view_module_version": "1.5.0",
       "_view_name": "HBoxView",
       "box_style": "",
       "children": [
        "IPY_MODEL_147a12af5e9b49b4854eb80acc42ec4e",
        "IPY_MODEL_2d28a7f0440e4680b159beaa53239194",
        "IPY_MODEL_913d5cd2115c42c38f8cdfe9ed6cde12"
       ],
       "layout": "IPY_MODEL_657bbf1f37224d85b336d1299bf95de3"
      }
     },
     "3a3199b7ed9647c1936cbfcaa8e66a0a": {
      "model_module": "@jupyter-widgets/controls",
      "model_module_version": "1.5.0",
      "model_name": "FloatProgressModel",
      "state": {
       "_dom_classes": [],
       "_model_module": "@jupyter-widgets/controls",
       "_model_module_version": "1.5.0",
       "_model_name": "FloatProgressModel",
       "_view_count": null,
       "_view_module": "@jupyter-widgets/controls",
       "_view_module_version": "1.5.0",
       "_view_name": "ProgressView",
       "bar_style": "success",
       "description": "",
       "description_tooltip": null,
       "layout": "IPY_MODEL_64145974d1e84ff89952e016cd4f568e",
       "max": 539930923.0,
       "min": 0.0,
       "orientation": "horizontal",
       "style": "IPY_MODEL_f1a83175f53d4c0b816acca762d2f7be",
       "value": 539930923.0
      }
     },
     "4eca950aec5b4ce484e08f947687543f": {
      "model_module": "@jupyter-widgets/controls",
      "model_module_version": "1.5.0",
      "model_name": "DescriptionStyleModel",
      "state": {
       "_model_module": "@jupyter-widgets/controls",
       "_model_module_version": "1.5.0",
       "_model_name": "DescriptionStyleModel",
       "_view_count": null,
       "_view_module": "@jupyter-widgets/base",
       "_view_module_version": "1.2.0",
       "_view_name": "StyleView",
       "description_width": ""
      }
     },
     "4ed7fb1409f2415da47967deadf98184": {
      "model_module": "@jupyter-widgets/base",
      "model_module_version": "1.2.0",
      "model_name": "LayoutModel",
      "state": {
       "_model_module": "@jupyter-widgets/base",
       "_model_module_version": "1.2.0",
       "_model_name": "LayoutModel",
       "_view_count": null,
       "_view_module": "@jupyter-widgets/base",
       "_view_module_version": "1.2.0",
       "_view_name": "LayoutView",
       "align_content": null,
       "align_items": null,
       "align_self": null,
       "border": null,
       "bottom": null,
       "display": null,
       "flex": null,
       "flex_flow": null,
       "grid_area": null,
       "grid_auto_columns": null,
       "grid_auto_flow": null,
       "grid_auto_rows": null,
       "grid_column": null,
       "grid_gap": null,
       "grid_row": null,
       "grid_template_areas": null,
       "grid_template_columns": null,
       "grid_template_rows": null,
       "height": null,
       "justify_content": null,
       "justify_items": null,
       "left": null,
       "margin": null,
       "max_height": null,
       "max_width": null,
       "min_height": null,
       "min_width": null,
       "object_fit": null,
       "object_position": null,
       "order": null,
       "overflow": null,
       "overflow_x": null,
       "overflow_y": null,
       "padding": null,
       "right": null,
       "top": null,
       "visibility": null,
       "width": null
      }
     },
     "5b3bb64c793742ad87f20caee3736033": {
      "model_module": "@jupyter-widgets/controls",
      "model_module_version": "1.5.0",
      "model_name": "DescriptionStyleModel",
      "state": {
       "_model_module": "@jupyter-widgets/controls",
       "_model_module_version": "1.5.0",
       "_model_name": "DescriptionStyleModel",
       "_view_count": null,
       "_view_module": "@jupyter-widgets/base",
       "_view_module_version": "1.2.0",
       "_view_name": "StyleView",
       "description_width": ""
      }
     },
     "607d7f389cca4f4aa75cbfefbf7e8b40": {
      "model_module": "@jupyter-widgets/base",
      "model_module_version": "1.2.0",
      "model_name": "LayoutModel",
      "state": {
       "_model_module": "@jupyter-widgets/base",
       "_model_module_version": "1.2.0",
       "_model_name": "LayoutModel",
       "_view_count": null,
       "_view_module": "@jupyter-widgets/base",
       "_view_module_version": "1.2.0",
       "_view_name": "LayoutView",
       "align_content": null,
       "align_items": null,
       "align_self": null,
       "border": null,
       "bottom": null,
       "display": null,
       "flex": null,
       "flex_flow": null,
       "grid_area": null,
       "grid_auto_columns": null,
       "grid_auto_flow": null,
       "grid_auto_rows": null,
       "grid_column": null,
       "grid_gap": null,
       "grid_row": null,
       "grid_template_areas": null,
       "grid_template_columns": null,
       "grid_template_rows": null,
       "height": null,
       "justify_content": null,
       "justify_items": null,
       "left": null,
       "margin": null,
       "max_height": null,
       "max_width": null,
       "min_height": null,
       "min_width": null,
       "object_fit": null,
       "object_position": null,
       "order": null,
       "overflow": null,
       "overflow_x": null,
       "overflow_y": null,
       "padding": null,
       "right": null,
       "top": null,
       "visibility": null,
       "width": null
      }
     },
     "60a8d61ac2954324acbddd29191c9eeb": {
      "model_module": "@jupyter-widgets/controls",
      "model_module_version": "1.5.0",
      "model_name": "HTMLModel",
      "state": {
       "_dom_classes": [],
       "_model_module": "@jupyter-widgets/controls",
       "_model_module_version": "1.5.0",
       "_model_name": "HTMLModel",
       "_view_count": null,
       "_view_module": "@jupyter-widgets/controls",
       "_view_module_version": "1.5.0",
       "_view_name": "HTMLView",
       "description": "",
       "description_tooltip": null,
       "layout": "IPY_MODEL_607d7f389cca4f4aa75cbfefbf7e8b40",
       "placeholder": "​",
       "style": "IPY_MODEL_f7a35644aefe498982901d221909b336",
       "value": "pytorch_model.bin: 100%"
      }
     },
     "64035a4663fe45dfaae0d9b27dd8a690": {
      "model_module": "@jupyter-widgets/base",
      "model_module_version": "1.2.0",
      "model_name": "LayoutModel",
      "state": {
       "_model_module": "@jupyter-widgets/base",
       "_model_module_version": "1.2.0",
       "_model_name": "LayoutModel",
       "_view_count": null,
       "_view_module": "@jupyter-widgets/base",
       "_view_module_version": "1.2.0",
       "_view_name": "LayoutView",
       "align_content": null,
       "align_items": null,
       "align_self": null,
       "border": null,
       "bottom": null,
       "display": null,
       "flex": null,
       "flex_flow": null,
       "grid_area": null,
       "grid_auto_columns": null,
       "grid_auto_flow": null,
       "grid_auto_rows": null,
       "grid_column": null,
       "grid_gap": null,
       "grid_row": null,
       "grid_template_areas": null,
       "grid_template_columns": null,
       "grid_template_rows": null,
       "height": null,
       "justify_content": null,
       "justify_items": null,
       "left": null,
       "margin": null,
       "max_height": null,
       "max_width": null,
       "min_height": null,
       "min_width": null,
       "object_fit": null,
       "object_position": null,
       "order": null,
       "overflow": null,
       "overflow_x": null,
       "overflow_y": null,
       "padding": null,
       "right": null,
       "top": null,
       "visibility": null,
       "width": null
      }
     },
     "64145974d1e84ff89952e016cd4f568e": {
      "model_module": "@jupyter-widgets/base",
      "model_module_version": "1.2.0",
      "model_name": "LayoutModel",
      "state": {
       "_model_module": "@jupyter-widgets/base",
       "_model_module_version": "1.2.0",
       "_model_name": "LayoutModel",
       "_view_count": null,
       "_view_module": "@jupyter-widgets/base",
       "_view_module_version": "1.2.0",
       "_view_name": "LayoutView",
       "align_content": null,
       "align_items": null,
       "align_self": null,
       "border": null,
       "bottom": null,
       "display": null,
       "flex": null,
       "flex_flow": null,
       "grid_area": null,
       "grid_auto_columns": null,
       "grid_auto_flow": null,
       "grid_auto_rows": null,
       "grid_column": null,
       "grid_gap": null,
       "grid_row": null,
       "grid_template_areas": null,
       "grid_template_columns": null,
       "grid_template_rows": null,
       "height": null,
       "justify_content": null,
       "justify_items": null,
       "left": null,
       "margin": null,
       "max_height": null,
       "max_width": null,
       "min_height": null,
       "min_width": null,
       "object_fit": null,
       "object_position": null,
       "order": null,
       "overflow": null,
       "overflow_x": null,
       "overflow_y": null,
       "padding": null,
       "right": null,
       "top": null,
       "visibility": null,
       "width": null
      }
     },
     "657bbf1f37224d85b336d1299bf95de3": {
      "model_module": "@jupyter-widgets/base",
      "model_module_version": "1.2.0",
      "model_name": "LayoutModel",
      "state": {
       "_model_module": "@jupyter-widgets/base",
       "_model_module_version": "1.2.0",
       "_model_name": "LayoutModel",
       "_view_count": null,
       "_view_module": "@jupyter-widgets/base",
       "_view_module_version": "1.2.0",
       "_view_name": "LayoutView",
       "align_content": null,
       "align_items": null,
       "align_self": null,
       "border": null,
       "bottom": null,
       "display": null,
       "flex": null,
       "flex_flow": null,
       "grid_area": null,
       "grid_auto_columns": null,
       "grid_auto_flow": null,
       "grid_auto_rows": null,
       "grid_column": null,
       "grid_gap": null,
       "grid_row": null,
       "grid_template_areas": null,
       "grid_template_columns": null,
       "grid_template_rows": null,
       "height": null,
       "justify_content": null,
       "justify_items": null,
       "left": null,
       "margin": null,
       "max_height": null,
       "max_width": null,
       "min_height": null,
       "min_width": null,
       "object_fit": null,
       "object_position": null,
       "order": null,
       "overflow": null,
       "overflow_x": null,
       "overflow_y": null,
       "padding": null,
       "right": null,
       "top": null,
       "visibility": null,
       "width": null
      }
     },
     "685b338f89f94eadabc0d500265d5f81": {
      "model_module": "@jupyter-widgets/controls",
      "model_module_version": "1.5.0",
      "model_name": "HTMLModel",
      "state": {
       "_dom_classes": [],
       "_model_module": "@jupyter-widgets/controls",
       "_model_module_version": "1.5.0",
       "_model_name": "HTMLModel",
       "_view_count": null,
       "_view_module": "@jupyter-widgets/controls",
       "_view_module_version": "1.5.0",
       "_view_name": "HTMLView",
       "description": "",
       "description_tooltip": null,
       "layout": "IPY_MODEL_4ed7fb1409f2415da47967deadf98184",
       "placeholder": "​",
       "style": "IPY_MODEL_4eca950aec5b4ce484e08f947687543f",
       "value": "bpe.codes: 100%"
      }
     },
     "6bf1b6b44f4443da8ee3e0fac2009f34": {
      "model_module": "@jupyter-widgets/controls",
      "model_module_version": "1.5.0",
      "model_name": "HTMLModel",
      "state": {
       "_dom_classes": [],
       "_model_module": "@jupyter-widgets/controls",
       "_model_module_version": "1.5.0",
       "_model_name": "HTMLModel",
       "_view_count": null,
       "_view_module": "@jupyter-widgets/controls",
       "_view_module_version": "1.5.0",
       "_view_name": "HTMLView",
       "description": "",
       "description_tooltip": null,
       "layout": "IPY_MODEL_23e8dbba188740be842a5e2dfa20fe41",
       "placeholder": "​",
       "style": "IPY_MODEL_2afadea83eea45869e92cf46995e7931",
       "value": " 843k/843k [00:00&lt;00:00, 10.3MB/s]"
      }
     },
     "82d197ee19d54795a46d35a12cc67174": {
      "model_module": "@jupyter-widgets/base",
      "model_module_version": "1.2.0",
      "model_name": "LayoutModel",
      "state": {
       "_model_module": "@jupyter-widgets/base",
       "_model_module_version": "1.2.0",
       "_model_name": "LayoutModel",
       "_view_count": null,
       "_view_module": "@jupyter-widgets/base",
       "_view_module_version": "1.2.0",
       "_view_name": "LayoutView",
       "align_content": null,
       "align_items": null,
       "align_self": null,
       "border": null,
       "bottom": null,
       "display": null,
       "flex": null,
       "flex_flow": null,
       "grid_area": null,
       "grid_auto_columns": null,
       "grid_auto_flow": null,
       "grid_auto_rows": null,
       "grid_column": null,
       "grid_gap": null,
       "grid_row": null,
       "grid_template_areas": null,
       "grid_template_columns": null,
       "grid_template_rows": null,
       "height": null,
       "justify_content": null,
       "justify_items": null,
       "left": null,
       "margin": null,
       "max_height": null,
       "max_width": null,
       "min_height": null,
       "min_width": null,
       "object_fit": null,
       "object_position": null,
       "order": null,
       "overflow": null,
       "overflow_x": null,
       "overflow_y": null,
       "padding": null,
       "right": null,
       "top": null,
       "visibility": null,
       "width": null
      }
     },
     "85b30f17cd1847afbe3f2629920fc118": {
      "model_module": "@jupyter-widgets/base",
      "model_module_version": "1.2.0",
      "model_name": "LayoutModel",
      "state": {
       "_model_module": "@jupyter-widgets/base",
       "_model_module_version": "1.2.0",
       "_model_name": "LayoutModel",
       "_view_count": null,
       "_view_module": "@jupyter-widgets/base",
       "_view_module_version": "1.2.0",
       "_view_name": "LayoutView",
       "align_content": null,
       "align_items": null,
       "align_self": null,
       "border": null,
       "bottom": null,
       "display": null,
       "flex": null,
       "flex_flow": null,
       "grid_area": null,
       "grid_auto_columns": null,
       "grid_auto_flow": null,
       "grid_auto_rows": null,
       "grid_column": null,
       "grid_gap": null,
       "grid_row": null,
       "grid_template_areas": null,
       "grid_template_columns": null,
       "grid_template_rows": null,
       "height": null,
       "justify_content": null,
       "justify_items": null,
       "left": null,
       "margin": null,
       "max_height": null,
       "max_width": null,
       "min_height": null,
       "min_width": null,
       "object_fit": null,
       "object_position": null,
       "order": null,
       "overflow": null,
       "overflow_x": null,
       "overflow_y": null,
       "padding": null,
       "right": null,
       "top": null,
       "visibility": null,
       "width": null
      }
     },
     "8c116b820478421087caa976ca67f51f": {
      "model_module": "@jupyter-widgets/base",
      "model_module_version": "1.2.0",
      "model_name": "LayoutModel",
      "state": {
       "_model_module": "@jupyter-widgets/base",
       "_model_module_version": "1.2.0",
       "_model_name": "LayoutModel",
       "_view_count": null,
       "_view_module": "@jupyter-widgets/base",
       "_view_module_version": "1.2.0",
       "_view_name": "LayoutView",
       "align_content": null,
       "align_items": null,
       "align_self": null,
       "border": null,
       "bottom": null,
       "display": null,
       "flex": null,
       "flex_flow": null,
       "grid_area": null,
       "grid_auto_columns": null,
       "grid_auto_flow": null,
       "grid_auto_rows": null,
       "grid_column": null,
       "grid_gap": null,
       "grid_row": null,
       "grid_template_areas": null,
       "grid_template_columns": null,
       "grid_template_rows": null,
       "height": null,
       "justify_content": null,
       "justify_items": null,
       "left": null,
       "margin": null,
       "max_height": null,
       "max_width": null,
       "min_height": null,
       "min_width": null,
       "object_fit": null,
       "object_position": null,
       "order": null,
       "overflow": null,
       "overflow_x": null,
       "overflow_y": null,
       "padding": null,
       "right": null,
       "top": null,
       "visibility": null,
       "width": null
      }
     },
     "913d5cd2115c42c38f8cdfe9ed6cde12": {
      "model_module": "@jupyter-widgets/controls",
      "model_module_version": "1.5.0",
      "model_name": "HTMLModel",
      "state": {
       "_dom_classes": [],
       "_model_module": "@jupyter-widgets/controls",
       "_model_module_version": "1.5.0",
       "_model_name": "HTMLModel",
       "_view_count": null,
       "_view_module": "@jupyter-widgets/controls",
       "_view_module_version": "1.5.0",
       "_view_name": "HTMLView",
       "description": "",
       "description_tooltip": null,
       "layout": "IPY_MODEL_2068018627f84fde870b887b39cef6e2",
       "placeholder": "​",
       "style": "IPY_MODEL_c7c7c2bcb539454f8a611b2faf3e3fa4",
       "value": " 714/714 [00:00&lt;00:00, 58.3kB/s]"
      }
     },
     "a2fb2c8bf1ca41b797d63646961d9bd1": {
      "model_module": "@jupyter-widgets/base",
      "model_module_version": "1.2.0",
      "model_name": "LayoutModel",
      "state": {
       "_model_module": "@jupyter-widgets/base",
       "_model_module_version": "1.2.0",
       "_model_name": "LayoutModel",
       "_view_count": null,
       "_view_module": "@jupyter-widgets/base",
       "_view_module_version": "1.2.0",
       "_view_name": "LayoutView",
       "align_content": null,
       "align_items": null,
       "align_self": null,
       "border": null,
       "bottom": null,
       "display": null,
       "flex": null,
       "flex_flow": null,
       "grid_area": null,
       "grid_auto_columns": null,
       "grid_auto_flow": null,
       "grid_auto_rows": null,
       "grid_column": null,
       "grid_gap": null,
       "grid_row": null,
       "grid_template_areas": null,
       "grid_template_columns": null,
       "grid_template_rows": null,
       "height": null,
       "justify_content": null,
       "justify_items": null,
       "left": null,
       "margin": null,
       "max_height": null,
       "max_width": null,
       "min_height": null,
       "min_width": null,
       "object_fit": null,
       "object_position": null,
       "order": null,
       "overflow": null,
       "overflow_x": null,
       "overflow_y": null,
       "padding": null,
       "right": null,
       "top": null,
       "visibility": null,
       "width": null
      }
     },
     "b0ff3aa0cddf42c38f9fe73b0bf8f23f": {
      "model_module": "@jupyter-widgets/base",
      "model_module_version": "1.2.0",
      "model_name": "LayoutModel",
      "state": {
       "_model_module": "@jupyter-widgets/base",
       "_model_module_version": "1.2.0",
       "_model_name": "LayoutModel",
       "_view_count": null,
       "_view_module": "@jupyter-widgets/base",
       "_view_module_version": "1.2.0",
       "_view_name": "LayoutView",
       "align_content": null,
       "align_items": null,
       "align_self": null,
       "border": null,
       "bottom": null,
       "display": null,
       "flex": null,
       "flex_flow": null,
       "grid_area": null,
       "grid_auto_columns": null,
       "grid_auto_flow": null,
       "grid_auto_rows": null,
       "grid_column": null,
       "grid_gap": null,
       "grid_row": null,
       "grid_template_areas": null,
       "grid_template_columns": null,
       "grid_template_rows": null,
       "height": null,
       "justify_content": null,
       "justify_items": null,
       "left": null,
       "margin": null,
       "max_height": null,
       "max_width": null,
       "min_height": null,
       "min_width": null,
       "object_fit": null,
       "object_position": null,
       "order": null,
       "overflow": null,
       "overflow_x": null,
       "overflow_y": null,
       "padding": null,
       "right": null,
       "top": null,
       "visibility": null,
       "width": null
      }
     },
     "b131177298464b6c9a96586a9777acde": {
      "model_module": "@jupyter-widgets/base",
      "model_module_version": "1.2.0",
      "model_name": "LayoutModel",
      "state": {
       "_model_module": "@jupyter-widgets/base",
       "_model_module_version": "1.2.0",
       "_model_name": "LayoutModel",
       "_view_count": null,
       "_view_module": "@jupyter-widgets/base",
       "_view_module_version": "1.2.0",
       "_view_name": "LayoutView",
       "align_content": null,
       "align_items": null,
       "align_self": null,
       "border": null,
       "bottom": null,
       "display": null,
       "flex": null,
       "flex_flow": null,
       "grid_area": null,
       "grid_auto_columns": null,
       "grid_auto_flow": null,
       "grid_auto_rows": null,
       "grid_column": null,
       "grid_gap": null,
       "grid_row": null,
       "grid_template_areas": null,
       "grid_template_columns": null,
       "grid_template_rows": null,
       "height": null,
       "justify_content": null,
       "justify_items": null,
       "left": null,
       "margin": null,
       "max_height": null,
       "max_width": null,
       "min_height": null,
       "min_width": null,
       "object_fit": null,
       "object_position": null,
       "order": null,
       "overflow": null,
       "overflow_x": null,
       "overflow_y": null,
       "padding": null,
       "right": null,
       "top": null,
       "visibility": null,
       "width": null
      }
     },
     "b4f5e5d7a1954a3099954f80215cbdb0": {
      "model_module": "@jupyter-widgets/controls",
      "model_module_version": "1.5.0",
      "model_name": "HBoxModel",
      "state": {
       "_dom_classes": [],
       "_model_module": "@jupyter-widgets/controls",
       "_model_module_version": "1.5.0",
       "_model_name": "HBoxModel",
       "_view_count": null,
       "_view_module": "@jupyter-widgets/controls",
       "_view_module_version": "1.5.0",
       "_view_name": "HBoxView",
       "box_style": "",
       "children": [
        "IPY_MODEL_19ce772ff5ec473f95c6c93e20aa1a8e",
        "IPY_MODEL_1660e037fcc04ff48bc284a662086317",
        "IPY_MODEL_6bf1b6b44f4443da8ee3e0fac2009f34"
       ],
       "layout": "IPY_MODEL_a2fb2c8bf1ca41b797d63646961d9bd1"
      }
     },
     "b5612896cecd434daf0cb890aff4ac8d": {
      "model_module": "@jupyter-widgets/controls",
      "model_module_version": "1.5.0",
      "model_name": "HTMLModel",
      "state": {
       "_dom_classes": [],
       "_model_module": "@jupyter-widgets/controls",
       "_model_module_version": "1.5.0",
       "_model_name": "HTMLModel",
       "_view_count": null,
       "_view_module": "@jupyter-widgets/controls",
       "_view_module_version": "1.5.0",
       "_view_name": "HTMLView",
       "description": "",
       "description_tooltip": null,
       "layout": "IPY_MODEL_64035a4663fe45dfaae0d9b27dd8a690",
       "placeholder": "​",
       "style": "IPY_MODEL_5b3bb64c793742ad87f20caee3736033",
       "value": " 540M/540M [00:02&lt;00:00, 243MB/s]"
      }
     },
     "bd0af34edeb846d98926b420743589a6": {
      "model_module": "@jupyter-widgets/base",
      "model_module_version": "1.2.0",
      "model_name": "LayoutModel",
      "state": {
       "_model_module": "@jupyter-widgets/base",
       "_model_module_version": "1.2.0",
       "_model_name": "LayoutModel",
       "_view_count": null,
       "_view_module": "@jupyter-widgets/base",
       "_view_module_version": "1.2.0",
       "_view_name": "LayoutView",
       "align_content": null,
       "align_items": null,
       "align_self": null,
       "border": null,
       "bottom": null,
       "display": null,
       "flex": null,
       "flex_flow": null,
       "grid_area": null,
       "grid_auto_columns": null,
       "grid_auto_flow": null,
       "grid_auto_rows": null,
       "grid_column": null,
       "grid_gap": null,
       "grid_row": null,
       "grid_template_areas": null,
       "grid_template_columns": null,
       "grid_template_rows": null,
       "height": null,
       "justify_content": null,
       "justify_items": null,
       "left": null,
       "margin": null,
       "max_height": null,
       "max_width": null,
       "min_height": null,
       "min_width": null,
       "object_fit": null,
       "object_position": null,
       "order": null,
       "overflow": null,
       "overflow_x": null,
       "overflow_y": null,
       "padding": null,
       "right": null,
       "top": null,
       "visibility": null,
       "width": null
      }
     },
     "bf46965f7d6042fe9656c79f382753a1": {
      "model_module": "@jupyter-widgets/controls",
      "model_module_version": "1.5.0",
      "model_name": "DescriptionStyleModel",
      "state": {
       "_model_module": "@jupyter-widgets/controls",
       "_model_module_version": "1.5.0",
       "_model_name": "DescriptionStyleModel",
       "_view_count": null,
       "_view_module": "@jupyter-widgets/base",
       "_view_module_version": "1.2.0",
       "_view_name": "StyleView",
       "description_width": ""
      }
     },
     "c6c14f164d56439c9b387687bf21d2d3": {
      "model_module": "@jupyter-widgets/controls",
      "model_module_version": "1.5.0",
      "model_name": "HBoxModel",
      "state": {
       "_dom_classes": [],
       "_model_module": "@jupyter-widgets/controls",
       "_model_module_version": "1.5.0",
       "_model_name": "HBoxModel",
       "_view_count": null,
       "_view_module": "@jupyter-widgets/controls",
       "_view_module_version": "1.5.0",
       "_view_name": "HBoxView",
       "box_style": "",
       "children": [
        "IPY_MODEL_685b338f89f94eadabc0d500265d5f81",
        "IPY_MODEL_1b75095656174d6d8d48e4b73cc47246",
        "IPY_MODEL_0c13f10d67d34e5d8d11a657f903be66"
       ],
       "layout": "IPY_MODEL_d083fb1c7cae4814b3791da40c0f571b"
      }
     },
     "c7c7c2bcb539454f8a611b2faf3e3fa4": {
      "model_module": "@jupyter-widgets/controls",
      "model_module_version": "1.5.0",
      "model_name": "DescriptionStyleModel",
      "state": {
       "_model_module": "@jupyter-widgets/controls",
       "_model_module_version": "1.5.0",
       "_model_name": "DescriptionStyleModel",
       "_view_count": null,
       "_view_module": "@jupyter-widgets/base",
       "_view_module_version": "1.2.0",
       "_view_name": "StyleView",
       "description_width": ""
      }
     },
     "cc6f8c734b3d40abb5601a01b8a54a65": {
      "model_module": "@jupyter-widgets/base",
      "model_module_version": "1.2.0",
      "model_name": "LayoutModel",
      "state": {
       "_model_module": "@jupyter-widgets/base",
       "_model_module_version": "1.2.0",
       "_model_name": "LayoutModel",
       "_view_count": null,
       "_view_module": "@jupyter-widgets/base",
       "_view_module_version": "1.2.0",
       "_view_name": "LayoutView",
       "align_content": null,
       "align_items": null,
       "align_self": null,
       "border": null,
       "bottom": null,
       "display": null,
       "flex": null,
       "flex_flow": null,
       "grid_area": null,
       "grid_auto_columns": null,
       "grid_auto_flow": null,
       "grid_auto_rows": null,
       "grid_column": null,
       "grid_gap": null,
       "grid_row": null,
       "grid_template_areas": null,
       "grid_template_columns": null,
       "grid_template_rows": null,
       "height": null,
       "justify_content": null,
       "justify_items": null,
       "left": null,
       "margin": null,
       "max_height": null,
       "max_width": null,
       "min_height": null,
       "min_width": null,
       "object_fit": null,
       "object_position": null,
       "order": null,
       "overflow": null,
       "overflow_x": null,
       "overflow_y": null,
       "padding": null,
       "right": null,
       "top": null,
       "visibility": null,
       "width": null
      }
     },
     "d083fb1c7cae4814b3791da40c0f571b": {
      "model_module": "@jupyter-widgets/base",
      "model_module_version": "1.2.0",
      "model_name": "LayoutModel",
      "state": {
       "_model_module": "@jupyter-widgets/base",
       "_model_module_version": "1.2.0",
       "_model_name": "LayoutModel",
       "_view_count": null,
       "_view_module": "@jupyter-widgets/base",
       "_view_module_version": "1.2.0",
       "_view_name": "LayoutView",
       "align_content": null,
       "align_items": null,
       "align_self": null,
       "border": null,
       "bottom": null,
       "display": null,
       "flex": null,
       "flex_flow": null,
       "grid_area": null,
       "grid_auto_columns": null,
       "grid_auto_flow": null,
       "grid_auto_rows": null,
       "grid_column": null,
       "grid_gap": null,
       "grid_row": null,
       "grid_template_areas": null,
       "grid_template_columns": null,
       "grid_template_rows": null,
       "height": null,
       "justify_content": null,
       "justify_items": null,
       "left": null,
       "margin": null,
       "max_height": null,
       "max_width": null,
       "min_height": null,
       "min_width": null,
       "object_fit": null,
       "object_position": null,
       "order": null,
       "overflow": null,
       "overflow_x": null,
       "overflow_y": null,
       "padding": null,
       "right": null,
       "top": null,
       "visibility": null,
       "width": null
      }
     },
     "ded82aa3fc3c423ab40fd24156c02967": {
      "model_module": "@jupyter-widgets/controls",
      "model_module_version": "1.5.0",
      "model_name": "DescriptionStyleModel",
      "state": {
       "_model_module": "@jupyter-widgets/controls",
       "_model_module_version": "1.5.0",
       "_model_name": "DescriptionStyleModel",
       "_view_count": null,
       "_view_module": "@jupyter-widgets/base",
       "_view_module_version": "1.2.0",
       "_view_name": "StyleView",
       "description_width": ""
      }
     },
     "e8cec4c0879e4dcdb0d5b0da9dc875df": {
      "model_module": "@jupyter-widgets/controls",
      "model_module_version": "1.5.0",
      "model_name": "ProgressStyleModel",
      "state": {
       "_model_module": "@jupyter-widgets/controls",
       "_model_module_version": "1.5.0",
       "_model_name": "ProgressStyleModel",
       "_view_count": null,
       "_view_module": "@jupyter-widgets/base",
       "_view_module_version": "1.2.0",
       "_view_name": "StyleView",
       "bar_color": null,
       "description_width": ""
      }
     },
     "f1a83175f53d4c0b816acca762d2f7be": {
      "model_module": "@jupyter-widgets/controls",
      "model_module_version": "1.5.0",
      "model_name": "ProgressStyleModel",
      "state": {
       "_model_module": "@jupyter-widgets/controls",
       "_model_module_version": "1.5.0",
       "_model_name": "ProgressStyleModel",
       "_view_count": null,
       "_view_module": "@jupyter-widgets/base",
       "_view_module_version": "1.2.0",
       "_view_name": "StyleView",
       "bar_color": null,
       "description_width": ""
      }
     },
     "f7a35644aefe498982901d221909b336": {
      "model_module": "@jupyter-widgets/controls",
      "model_module_version": "1.5.0",
      "model_name": "DescriptionStyleModel",
      "state": {
       "_model_module": "@jupyter-widgets/controls",
       "_model_module_version": "1.5.0",
       "_model_name": "DescriptionStyleModel",
       "_view_count": null,
       "_view_module": "@jupyter-widgets/base",
       "_view_module_version": "1.2.0",
       "_view_name": "StyleView",
       "description_width": ""
      }
     }
    },
    "version_major": 2,
    "version_minor": 0
   }
  }
 },
 "nbformat": 4,
 "nbformat_minor": 5
}
